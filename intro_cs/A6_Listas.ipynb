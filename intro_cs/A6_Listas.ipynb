{
 "cells": [
  {
   "cell_type": "markdown",
   "metadata": {
    "id": "Xq_hs1jGRtLR"
   },
   "source": [
    "*“Computer Science is embarrassed by the computer.”*\n",
    "\n",
    "__Alan Perlis__"
   ]
  },
  {
   "cell_type": "markdown",
   "metadata": {
    "id": "zYW3ZR0NSLk7"
   },
   "source": [
    "## Problemas"
   ]
  },
  {
   "cell_type": "markdown",
   "metadata": {
    "id": "Lw7Zrm0lJ52N"
   },
   "source": [
    "1. Encuentre el valor máximo en una lista, sin utilizar funciones nativas"
   ]
  },
  {
   "cell_type": "code",
   "execution_count": 5,
   "metadata": {
    "colab": {
     "base_uri": "https://localhost:8080/"
    },
    "executionInfo": {
     "elapsed": 1018,
     "status": "ok",
     "timestamp": 1604434876013,
     "user": {
      "displayName": "francisco gomez",
      "photoUrl": "https://lh3.googleusercontent.com/a-/AOh14Gh1paMBTss7Qj4xEFsNAxZ3iXqx3aKAT34suasN2Q=s64",
      "userId": "02748555324622580505"
     },
     "user_tz": 300
    },
    "id": "RUcWXtUQJ9E0",
    "outputId": "a2705972-9f67-4d34-c21a-2a273f99c045"
   },
   "outputs": [
    {
     "name": "stdout",
     "output_type": "stream",
     "text": [
      "Lista\n",
      "[-78, -52, -14, 79, -49, 53, -93, -27, -28, 78, 69, -80, -15, -32, -19, -41, 45, -3, 32, -63]\n",
      "\n",
      "\n",
      "El mayor número es: \n",
      "79\n"
     ]
    }
   ],
   "source": [
    "import random\n",
    "# genero una lista random de número a evaluar\n",
    "lista = [random.randint(-99,99) for i in range(20)]\n",
    "greatest = 0\n",
    "print(\"Lista\")\n",
    "print(lista)\n",
    "# para encontrar el mayor, lo evalúo uno a uno \n",
    "for i in range(len(lista)):\n",
    "    if greatest < lista[i]:\n",
    "        greatest = lista[i]\n",
    "print(\"\\n\")\n",
    "print(\"El mayor número es: \")\n",
    "print(greatest)"
   ]
  },
  {
   "cell_type": "markdown",
   "metadata": {
    "id": "B72fnfAPFZNz"
   },
   "source": [
    "2. Imprima todos los números negativos en una lista"
   ]
  },
  {
   "cell_type": "code",
   "execution_count": 7,
   "metadata": {
    "colab": {
     "base_uri": "https://localhost:8080/"
    },
    "executionInfo": {
     "elapsed": 791,
     "status": "ok",
     "timestamp": 1604434937900,
     "user": {
      "displayName": "francisco gomez",
      "photoUrl": "https://lh3.googleusercontent.com/a-/AOh14Gh1paMBTss7Qj4xEFsNAxZ3iXqx3aKAT34suasN2Q=s64",
      "userId": "02748555324622580505"
     },
     "user_tz": 300
    },
    "id": "JiCFfhv2FZWL",
    "outputId": "fd499f0e-f1da-41d5-ffb8-292b78ddd4d6"
   },
   "outputs": [
    {
     "name": "stdout",
     "output_type": "stream",
     "text": [
      "Lista\n",
      "[-22, 6, -62, -26, 69, 21, -46, 69, -60, -42, -64, -98, 41, -67, 3, 39, 50, -11, 98, 15]\n",
      "\n",
      "\n",
      "Números negatívos de la lista: \n",
      "-22, -62, -26, -46, -60, -42, -64, -98, -67, -11, "
     ]
    }
   ],
   "source": [
    "lista = [random.randint(-99,99) for i in range(20)]\n",
    "print(\"Lista\")\n",
    "print(lista)\n",
    "print(\"\\n\")\n",
    "print(\"Números negatívos de la lista: \")\n",
    "for i in lista:\n",
    "    if i < 0:\n",
    "        print(i, end=\", \")"
   ]
  },
  {
   "cell_type": "markdown",
   "metadata": {
    "id": "FP5SChrPE1qp"
   },
   "source": [
    "3. Ordene una lista de números"
   ]
  },
  {
   "cell_type": "code",
   "execution_count": 12,
   "metadata": {
    "id": "HXJhejw4FLsy"
   },
   "outputs": [
    {
     "name": "stdout",
     "output_type": "stream",
     "text": [
      "Lista\n",
      "[-8, 59, -61, 62, 67, 57, 51, 84, 79, -86, -17, 75, 69, -64, -81, 22, -88, 63, -28, -29]\n",
      "\n",
      "\n",
      "Lista ordenada menor a mayor: \n",
      "[-88, -86, -81, -64, -61, -29, -28, -17, -8, 22, 51, 57, 59, 62, 63, 67, 69, 75, 79, 84]\n"
     ]
    }
   ],
   "source": [
    "lista = [random.randint(-99,99) for i in range(20)]\n",
    "print(\"Lista\")\n",
    "print(lista)\n",
    "print(\"\\n\")\n",
    "print(\"Lista ordenada menor a mayor: \")\n",
    "disorder = True\n",
    "while disorder:\n",
    "    leave = True\n",
    "    for i in range(len(lista)-1):\n",
    "        if lista[i] > lista[i+1]:\n",
    "            a = lista[i]\n",
    "            lista[i] = lista[i+1]\n",
    "            lista[i+1] = a\n",
    "            leave = False\n",
    "    if leave:\n",
    "        disorder = False\n",
    "print(lista) "
   ]
  },
  {
   "cell_type": "markdown",
   "metadata": {
    "id": "OKKbv1BKFMex"
   },
   "source": [
    "4. Dado un número n escriba todas las posibles permutaciones de los enteros entre 1 y n"
   ]
  },
  {
   "cell_type": "code",
   "execution_count": 42,
   "metadata": {
    "id": "1f_EIYa9FMp2"
   },
   "outputs": [
    {
     "name": "stdout",
     "output_type": "stream",
     "text": [
      "[[[0, 1], [0, 2], [0, 3]], [[1, 2], [1, 3]], [[2, 3]]]\n",
      "3\n",
      "[[0, 1, 2, 3], [0, 1, 2, 3], [0, 1, 2, 3]]\n",
      "[[0, 2], [0, 2]]\n",
      "[[0]]\n"
     ]
    }
   ],
   "source": [
    "lista = [0,1,2,3]\n",
    "# 1,2 1,3 2,3\n",
    "\n",
    "total = []\n",
    "for i in range(len(lista)):\n",
    "    arr = []\n",
    "    for j in range(i+1, len(lista)):\n",
    "        arr.append([lista[i],lista[j]])\n",
    "    if arr != []:\n",
    "        total.append(arr)\n",
    "print(total)\n",
    "print(len(total))\n",
    "\n",
    "length = len(lista)\n",
    "matx = []\n",
    "\n",
    "for i in range(length-1):\n",
    "    arr = [[0] for x in range(length-1-i)]\n",
    "    for j in range(i+1, length):\n",
    "        step = 0\n",
    "        for r in range(len(arr)):\n",
    "            if j <= len(arr):\n",
    "                arr[r].append(j)\n",
    "    print(arr)\n"
   ]
  },
  {
   "cell_type": "markdown",
   "metadata": {
    "id": "PgqWFNG5MH_S"
   },
   "source": [
    "5. Encuentre todos los pares de elementos en una lista cuya suma sea igual a un número especificado"
   ]
  },
  {
   "cell_type": "code",
   "execution_count": null,
   "metadata": {
    "id": "CUESPjKTMIJS"
   },
   "outputs": [],
   "source": []
  },
  {
   "cell_type": "markdown",
   "metadata": {
    "id": "w6aG4ekFFfv8"
   },
   "source": [
    "6. Calcule el promedio y la suma de los elementos en una lista"
   ]
  },
  {
   "cell_type": "code",
   "execution_count": null,
   "metadata": {
    "id": "-91xnpfrFf3S"
   },
   "outputs": [],
   "source": []
  },
  {
   "cell_type": "markdown",
   "metadata": {
    "id": "47xu0dynFw9R"
   },
   "source": [
    "7. Calcule la suma de los elementos de dos listas"
   ]
  },
  {
   "cell_type": "code",
   "execution_count": null,
   "metadata": {
    "id": "MzX3bSIxFxIa"
   },
   "outputs": [],
   "source": []
  },
  {
   "cell_type": "markdown",
   "metadata": {
    "id": "S599fJnrLlk7"
   },
   "source": [
    "8. Encuentre el segundo elemento más grande en una lista"
   ]
  },
  {
   "cell_type": "code",
   "execution_count": null,
   "metadata": {
    "id": "Uvy08g4MLlxU"
   },
   "outputs": [],
   "source": []
  },
  {
   "cell_type": "markdown",
   "metadata": {
    "id": "kluLrKL7LphH"
   },
   "source": [
    "9. Mezcle los elementos de dos listas en una sola lista ordenada"
   ]
  },
  {
   "cell_type": "code",
   "execution_count": null,
   "metadata": {
    "id": "9PisdmFlLprA"
   },
   "outputs": [],
   "source": []
  },
  {
   "cell_type": "markdown",
   "metadata": {
    "id": "1emFpwGjL6o9"
   },
   "source": [
    "10. Encuentre los dos elementos de una lista con la diferencia más grande entre ellos"
   ]
  },
  {
   "cell_type": "code",
   "execution_count": null,
   "metadata": {
    "id": "O4FldweFcSAj"
   },
   "outputs": [],
   "source": []
  },
  {
   "cell_type": "markdown",
   "metadata": {
    "id": "GjFkz87icRKv"
   },
   "source": [
    "11. Encuentre los dos elementos de una lista cuya suma sea más cercana a cero"
   ]
  },
  {
   "cell_type": "code",
   "execution_count": null,
   "metadata": {
    "id": "ycutVAZZL6wL"
   },
   "outputs": [],
   "source": []
  },
  {
   "cell_type": "markdown",
   "metadata": {
    "id": "gbgnZsxccVJc"
   },
   "source": [
    "12. Calcule la lista que resulta de la unión entre los elementos de otras dos listas"
   ]
  },
  {
   "cell_type": "code",
   "execution_count": null,
   "metadata": {
    "id": "lEOuUIJNcVUE"
   },
   "outputs": [],
   "source": []
  },
  {
   "cell_type": "markdown",
   "metadata": {
    "id": "AxQWaXKjcYGm"
   },
   "source": [
    "13. Calcule la lista que resulta de la intersección entre los elementos de otras dos listas"
   ]
  },
  {
   "cell_type": "code",
   "execution_count": null,
   "metadata": {
    "id": "P0QvK-JrcYPl"
   },
   "outputs": [],
   "source": []
  },
  {
   "cell_type": "markdown",
   "metadata": {
    "id": "CUX_zeJKcand"
   },
   "source": [
    "14 Dado un conjunto de elementos en una lista calcule su (histograma)[https://es.wikipedia.org/wiki/Histograma]"
   ]
  },
  {
   "cell_type": "code",
   "execution_count": null,
   "metadata": {
    "id": "aC8aejmlcaym"
   },
   "outputs": [],
   "source": []
  },
  {
   "cell_type": "markdown",
   "metadata": {
    "id": "FN4kJotHcdX0"
   },
   "source": [
    "15. Convierta un texto de código morse a inglés y viceversa"
   ]
  },
  {
   "cell_type": "code",
   "execution_count": null,
   "metadata": {
    "id": "loTsOI4CcdiU"
   },
   "outputs": [],
   "source": []
  },
  {
   "cell_type": "markdown",
   "metadata": {
    "id": "zXCcY8eAcf1r"
   },
   "source": [
    "16. Determine si una cadena de texto es palindrome o no"
   ]
  },
  {
   "cell_type": "code",
   "execution_count": null,
   "metadata": {
    "id": "Nwmr27ZscgAG"
   },
   "outputs": [],
   "source": []
  }
 ],
 "metadata": {
  "colab": {
   "collapsed_sections": [],
   "name": "A6_Listas.ipynb",
   "provenance": []
  },
  "kernelspec": {
   "display_name": "Python 3",
   "language": "python",
   "name": "python3"
  },
  "language_info": {
   "codemirror_mode": {
    "name": "ipython",
    "version": 3
   },
   "file_extension": ".py",
   "mimetype": "text/x-python",
   "name": "python",
   "nbconvert_exporter": "python",
   "pygments_lexer": "ipython3",
   "version": "3.7.6"
  }
 },
 "nbformat": 4,
 "nbformat_minor": 1
}
