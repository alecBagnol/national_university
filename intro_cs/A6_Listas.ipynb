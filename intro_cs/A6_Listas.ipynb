{
 "cells": [
  {
   "cell_type": "markdown",
   "metadata": {
    "id": "Xq_hs1jGRtLR"
   },
   "source": [
    "*“Computer Science is embarrassed by the computer.”*\n",
    "\n",
    "__Alan Perlis__"
   ]
  },
  {
   "cell_type": "markdown",
   "metadata": {
    "id": "zYW3ZR0NSLk7"
   },
   "source": [
    "## Problemas"
   ]
  },
  {
   "cell_type": "markdown",
   "metadata": {
    "id": "Lw7Zrm0lJ52N"
   },
   "source": [
    "1. Encuentre el valor máximo en una lista, sin utilizar funciones nativas"
   ]
  },
  {
   "cell_type": "code",
   "execution_count": 5,
   "metadata": {
    "colab": {
     "base_uri": "https://localhost:8080/"
    },
    "executionInfo": {
     "elapsed": 1018,
     "status": "ok",
     "timestamp": 1604434876013,
     "user": {
      "displayName": "francisco gomez",
      "photoUrl": "https://lh3.googleusercontent.com/a-/AOh14Gh1paMBTss7Qj4xEFsNAxZ3iXqx3aKAT34suasN2Q=s64",
      "userId": "02748555324622580505"
     },
     "user_tz": 300
    },
    "id": "RUcWXtUQJ9E0",
    "outputId": "a2705972-9f67-4d34-c21a-2a273f99c045"
   },
   "outputs": [
    {
     "name": "stdout",
     "output_type": "stream",
     "text": [
      "Lista\n",
      "[-78, -52, -14, 79, -49, 53, -93, -27, -28, 78, 69, -80, -15, -32, -19, -41, 45, -3, 32, -63]\n",
      "\n",
      "\n",
      "El mayor número es: \n",
      "79\n"
     ]
    }
   ],
   "source": [
    "import random\n",
    "# genero una lista random de número a evaluar\n",
    "lista = [random.randint(-99,99) for i in range(20)]\n",
    "greatest = 0\n",
    "print(\"Lista\")\n",
    "print(lista)\n",
    "# para encontrar el mayor, lo evalúo uno a uno \n",
    "for i in range(len(lista)):\n",
    "    if greatest < lista[i]:\n",
    "        greatest = lista[i]\n",
    "print(\"\\n\")\n",
    "print(\"El mayor número es: \")\n",
    "print(greatest)"
   ]
  },
  {
   "cell_type": "markdown",
   "metadata": {
    "id": "B72fnfAPFZNz"
   },
   "source": [
    "2. Imprima todos los números negativos en una lista"
   ]
  },
  {
   "cell_type": "code",
   "execution_count": 7,
   "metadata": {
    "colab": {
     "base_uri": "https://localhost:8080/"
    },
    "executionInfo": {
     "elapsed": 791,
     "status": "ok",
     "timestamp": 1604434937900,
     "user": {
      "displayName": "francisco gomez",
      "photoUrl": "https://lh3.googleusercontent.com/a-/AOh14Gh1paMBTss7Qj4xEFsNAxZ3iXqx3aKAT34suasN2Q=s64",
      "userId": "02748555324622580505"
     },
     "user_tz": 300
    },
    "id": "JiCFfhv2FZWL",
    "outputId": "fd499f0e-f1da-41d5-ffb8-292b78ddd4d6"
   },
   "outputs": [
    {
     "name": "stdout",
     "output_type": "stream",
     "text": [
      "Lista\n",
      "[-22, 6, -62, -26, 69, 21, -46, 69, -60, -42, -64, -98, 41, -67, 3, 39, 50, -11, 98, 15]\n",
      "\n",
      "\n",
      "Números negatívos de la lista: \n",
      "-22, -62, -26, -46, -60, -42, -64, -98, -67, -11, "
     ]
    }
   ],
   "source": [
    "lista = [random.randint(-99,99) for i in range(20)]\n",
    "print(\"Lista\")\n",
    "print(lista)\n",
    "print(\"\\n\")\n",
    "print(\"Números negatívos de la lista: \")\n",
    "for i in lista:\n",
    "    if i < 0:\n",
    "        print(i, end=\", \")"
   ]
  },
  {
   "cell_type": "markdown",
   "metadata": {
    "id": "FP5SChrPE1qp"
   },
   "source": [
    "3. Ordene una lista de números"
   ]
  },
  {
   "cell_type": "code",
   "execution_count": 12,
   "metadata": {
    "id": "HXJhejw4FLsy"
   },
   "outputs": [
    {
     "name": "stdout",
     "output_type": "stream",
     "text": [
      "Lista\n",
      "[-8, 59, -61, 62, 67, 57, 51, 84, 79, -86, -17, 75, 69, -64, -81, 22, -88, 63, -28, -29]\n",
      "\n",
      "\n",
      "Lista ordenada menor a mayor: \n",
      "[-88, -86, -81, -64, -61, -29, -28, -17, -8, 22, 51, 57, 59, 62, 63, 67, 69, 75, 79, 84]\n"
     ]
    }
   ],
   "source": [
    "lista = [random.randint(-99,99) for i in range(20)]\n",
    "print(\"Lista\")\n",
    "print(lista)\n",
    "print(\"\\n\")\n",
    "print(\"Lista ordenada menor a mayor: \")\n",
    "disorder = True\n",
    "while disorder:\n",
    "    leave = True\n",
    "    for i in range(len(lista)-1):\n",
    "        if lista[i] > lista[i+1]:\n",
    "            a = lista[i]\n",
    "            lista[i] = lista[i+1]\n",
    "            lista[i+1] = a\n",
    "            leave = False\n",
    "    if leave:\n",
    "        disorder = False\n",
    "print(lista) "
   ]
  },
  {
   "cell_type": "markdown",
   "metadata": {
    "id": "OKKbv1BKFMex"
   },
   "source": [
    "4. Dado un número n escriba todas las posibles permutaciones de los enteros entre 1 y n"
   ]
  },
  {
   "cell_type": "code",
   "execution_count": 58,
   "metadata": {
    "id": "1f_EIYa9FMp2"
   },
   "outputs": [
    {
     "name": "stdout",
     "output_type": "stream",
     "text": [
      "Ingrese el número n: 6\n",
      "Posibles permutaciones entre los números del entre 1 y 6: \n",
      "[[[1, 2, 3, 4, 5, 6], [1, 2, 3, 4, 5], [1, 2, 3, 4], [1, 2, 3], [1, 2]], [[1, 3, 4, 5, 6], [1, 3, 4, 5], [1, 3, 4], [1, 3]], [[1, 4, 5, 6], [1, 4, 5], [1, 4]], [[1, 5, 6], [1, 5]], [[1, 6]], [[2, 3, 4, 5, 6], [2, 3, 4, 5], [2, 3, 4], [2, 3]], [[2, 4, 5, 6], [2, 4, 5], [2, 4]], [[2, 5, 6], [2, 5]], [[2, 6]], [[3, 4, 5, 6], [3, 4, 5], [3, 4]], [[3, 5, 6], [3, 5]], [[3, 6]], [[4, 5, 6], [4, 5]], [[4, 6]], [[5, 6]]]\n"
     ]
    }
   ],
   "source": [
    "# pido el número n para popular la lista\n",
    "n = int(input(\"Ingrese el número n: \"))\n",
    "lista = [i+1 for i in range(n)]\n",
    "\n",
    "# inicializo un array donde guardaré las permutaciones\n",
    "matx = []\n",
    "\n",
    "# recorro por el total de elementos en en arreglo\n",
    "for k in range(len(lista)):\n",
    "    \n",
    "    #según la posición del arreglo se crea una nueva lista en cada iteración para\n",
    "    #popular la serie de cada nuevo número inicial\n",
    "    lista_b = lista[k:]\n",
    "    length = len(lista_b)\n",
    "    \n",
    "    #recorro dadas la posibilidades del tamaño de la nueva lista - 1 que es el número que\n",
    "    #se va asociando con el array cada vez que se recorre\n",
    "    for i in range(length-1):\n",
    "        \n",
    "        # creo seguidamente una lista populada con el numero inicial y con un rango total del\n",
    "        # recorrido anterior menos el paso que lleva el recorrido\n",
    "        arr = [[lista_b[0]] for x in range(length-1-i)]\n",
    "        \n",
    "        #la idea es crear las permutaciones dadas desde el punto de vista del número inicial\n",
    "        #de la lista creada a partir de la lista original\n",
    "        for j in range(i+1, length):\n",
    "            for r in range(len(arr)):\n",
    "                # por cada iteración a popular la lista, se reduce en el número del paso para\n",
    "                # limitarla respecto a la posición \"vertical\"\n",
    "                if r + j <= len(arr)+i:\n",
    "                    arr[r].append(lista_b[j])\n",
    "        matx.append(arr)\n",
    "#         print(arr)\n",
    "print(\"Posibles permutaciones entre los números del entre 1 y {}: \".format(n))\n",
    "print(matx)"
   ]
  },
  {
   "cell_type": "markdown",
   "metadata": {
    "id": "PgqWFNG5MH_S"
   },
   "source": [
    "5. Encuentre todos los pares de elementos en una lista cuya suma sea igual a un número especificado"
   ]
  },
  {
   "cell_type": "code",
   "execution_count": 79,
   "metadata": {
    "id": "CUESPjKTMIJS"
   },
   "outputs": [
    {
     "name": "stdout",
     "output_type": "stream",
     "text": [
      "[14, 13, 19, 9, 13, 20, 10, 18, 2, 1, 16, 13, 15, 10, 17, 9, 14, 6, 18, 17]\n",
      "\n",
      "\n",
      "Ingrese el número especificado: 25\n",
      "Los pares de elementos cuya suma coinciden con el número especificado son:\n",
      "[19,6] [9,16] [10,15] [16,9] [15,10] "
     ]
    }
   ],
   "source": [
    "# dada una lista cualquiera\n",
    "lista = [random.randint(0,20) for i in range(20)]\n",
    "print(lista)\n",
    "print(\"\\n\")\n",
    "# y dado el un número n especificado\n",
    "n = int(input(\"Ingrese el número especificado: \"))\n",
    "count = 0\n",
    "print(\"Los pares de elementos cuya suma coinciden con el número especificado son:\")\n",
    "\n",
    "# para tomar cada vez el primer elemento mientras recorre la lista\n",
    "for i in range(len(lista)):\n",
    "    \n",
    "#     para tomar el elemento siguiente del elemento inicial mientras recorre la lista\n",
    "    for j in range(i+1, len(lista)):\n",
    "#         una comparación para ver si coincide con el número a encontrar dada la pareja\n",
    "        if lista[i] + lista[j] == n: \n",
    "            count += 1\n",
    "            print(\"[{},{}]\".format(lista[i], lista[j]), end=\" \")\n",
    "\n",
    "if count == 0:\n",
    "    print(\"No se encontraron parejas de elementos con  suma = {}.\".format(n))\n"
   ]
  },
  {
   "cell_type": "markdown",
   "metadata": {
    "id": "w6aG4ekFFfv8"
   },
   "source": [
    "6. Calcule el promedio y la suma de los elementos en una lista"
   ]
  },
  {
   "cell_type": "code",
   "execution_count": 83,
   "metadata": {
    "id": "-91xnpfrFf3S"
   },
   "outputs": [
    {
     "name": "stdout",
     "output_type": "stream",
     "text": [
      "[15, 12, 7, 5, 0, 2, 19, 0, 0, 2, 3, 5, 17, 19, 15, 1, 6, 1, 6, 8]\n",
      "\n",
      " La suma de los elementos de la lista es:  143\n",
      "\n",
      " El promedio de la lista es:  7.15\n"
     ]
    }
   ],
   "source": [
    "# dada una lista arbitraria\n",
    "lista = [random.randint(0,20) for i in range(20)]\n",
    "print(lista)\n",
    "# inicializo variable donde guardo la suma de los elementos\n",
    "total = 0\n",
    "print(\"\\n\",\"La suma de los elementos de la lista es: \", end=\" \")\n",
    "# recorro los elementos y los voy sumando\n",
    "for i in lista:\n",
    "    total += i\n",
    "print(total)\n",
    "print(\"\\n\",\"El promedio de la lista es: \", end=\" \")\n",
    "# a la suma de los elementos le resto la cantidad de elementos en lista\n",
    "print(total/len(lista))"
   ]
  },
  {
   "cell_type": "markdown",
   "metadata": {
    "id": "47xu0dynFw9R"
   },
   "source": [
    "7. Calcule la suma de los elementos de dos listas"
   ]
  },
  {
   "cell_type": "code",
   "execution_count": 104,
   "metadata": {
    "id": "MzX3bSIxFxIa"
   },
   "outputs": [
    {
     "name": "stdout",
     "output_type": "stream",
     "text": [
      "Dadas las listas: \n",
      "lista 1  =   [14, 9, 6, 13, 2, 7, 12, 2, 11, 5, 15, 20, 10, 8, 11, 2, 7, 17]\n",
      "lista 2  =   [6, 1, 7, 2, 5, 9, 9, 5, 8, 16, 12, 14, 17, 8, 4]\n",
      "Lista 1+2 =  [20, 10, 13, 15, 7, 16, 21, 7, 19, 21, 27, 34, 27, 16, 15, 2, 7, 17]\n",
      "El total de la suma de las dos listas es =  294\n"
     ]
    }
   ],
   "source": [
    "# dadas 2 listas de tamaño y elementos diferentes:\n",
    "lista = []\n",
    "for i in range(2):\n",
    "    size = random.randint(5,20)\n",
    "    arr = [random.randint(1,20) for i in range(size)]\n",
    "    lista.append(arr)\n",
    "\n",
    "print(\"Dadas las listas: \")\n",
    "# simple iteracion para mostrar las listas contenidas en lista\n",
    "for i in range(len(lista)):\n",
    "    print(\"lista {}  =  \".format(i+1),lista[i])\n",
    "\n",
    "# tomo el valor del resultado de la resta entre los tamaños de las listas\n",
    "# para determinar el número que indicara donde parar de sumar más adelante dada\n",
    "# la lista\n",
    "track = abs(len(lista[0]) - len(lista[1])) \n",
    "adder = []\n",
    "# tambien asigno a una lista la lista más grande\n",
    "if len(lista[0]) > len(lista[1]):\n",
    "    adder = lista[0]\n",
    "else:\n",
    "    adder = lista[1]\n",
    "\n",
    "\n",
    "print(\"Lista 1+2 = \",end=\" \")\n",
    "# recorro la lista más grande y hasta el tamaño de la menor, sumo las 2 listas, en\n",
    "# adelante solo dejo el valor de la más grande\n",
    "for i in range(len(adder)):\n",
    "    if i <= len(adder) - 1 - track:\n",
    "        adder[i] = lista[0][i] + lista[1][i]\n",
    "print(adder)\n",
    "\n",
    "print(\"El total de la suma de las dos listas es = \", end=\" \")\n",
    "total = 0\n",
    "for i in adder:\n",
    "    total += i\n",
    "print(total)"
   ]
  },
  {
   "cell_type": "markdown",
   "metadata": {
    "id": "S599fJnrLlk7"
   },
   "source": [
    "8. Encuentre el segundo elemento más grande en una lista"
   ]
  },
  {
   "cell_type": "code",
   "execution_count": 118,
   "metadata": {
    "id": "Uvy08g4MLlxU"
   },
   "outputs": [
    {
     "name": "stdout",
     "output_type": "stream",
     "text": [
      "Dada la lista: [1, 8, 19, 20, 3, 9, 17, 5, 4, 12, 7, 11, 18, 8, 2, 5, 21]\n",
      "El segundo elemento más grande es:  20 .\n"
     ]
    }
   ],
   "source": [
    "# dada una lista cualquiera\n",
    "lista = [1,8,19,20,3,9,17,5,4,12,7,11,18,8,2,5,21]\n",
    "print(\"Dada la lista: {}\".format(lista))\n",
    "# declaro 2 variables donde voy a guardar el número más grande y el que le sigue\n",
    "a = 0\n",
    "b = 0\n",
    "# recoro la lista en busca del elemento más grande:\n",
    "for i in range(len(lista)):\n",
    "#     si encuentra un elemento más grande que a entonces a pasa a ser b\n",
    "#     y el elemento pasa a ser a\n",
    "    if lista[i] >= a:\n",
    "        b = a\n",
    "        a = lista[i]\n",
    "#     dado un elemento, tiene que ser menor o igual al elemento más grande al momento\n",
    "#     y tiene que ser mayor a b para ser asignado\n",
    "    elif lista[i] <= a and lista[i] > b:\n",
    "        b = lista[i]\n",
    "print(\"El segundo elemento más grande es: \", b, \".\")"
   ]
  },
  {
   "cell_type": "markdown",
   "metadata": {
    "id": "kluLrKL7LphH"
   },
   "source": [
    "9. Mezcle los elementos de dos listas en una sola lista ordenada"
   ]
  },
  {
   "cell_type": "code",
   "execution_count": null,
   "metadata": {
    "id": "9PisdmFlLprA"
   },
   "outputs": [],
   "source": []
  },
  {
   "cell_type": "markdown",
   "metadata": {
    "id": "1emFpwGjL6o9"
   },
   "source": [
    "10. Encuentre los dos elementos de una lista con la diferencia más grande entre ellos"
   ]
  },
  {
   "cell_type": "code",
   "execution_count": null,
   "metadata": {
    "id": "O4FldweFcSAj"
   },
   "outputs": [],
   "source": []
  },
  {
   "cell_type": "markdown",
   "metadata": {
    "id": "GjFkz87icRKv"
   },
   "source": [
    "11. Encuentre los dos elementos de una lista cuya suma sea más cercana a cero"
   ]
  },
  {
   "cell_type": "code",
   "execution_count": null,
   "metadata": {
    "id": "ycutVAZZL6wL"
   },
   "outputs": [],
   "source": []
  },
  {
   "cell_type": "markdown",
   "metadata": {
    "id": "gbgnZsxccVJc"
   },
   "source": [
    "12. Calcule la lista que resulta de la unión entre los elementos de otras dos listas"
   ]
  },
  {
   "cell_type": "code",
   "execution_count": null,
   "metadata": {
    "id": "lEOuUIJNcVUE"
   },
   "outputs": [],
   "source": []
  },
  {
   "cell_type": "markdown",
   "metadata": {
    "id": "AxQWaXKjcYGm"
   },
   "source": [
    "13. Calcule la lista que resulta de la intersección entre los elementos de otras dos listas"
   ]
  },
  {
   "cell_type": "code",
   "execution_count": null,
   "metadata": {
    "id": "P0QvK-JrcYPl"
   },
   "outputs": [],
   "source": []
  },
  {
   "cell_type": "markdown",
   "metadata": {
    "id": "CUX_zeJKcand"
   },
   "source": [
    "14 Dado un conjunto de elementos en una lista calcule su (histograma)[https://es.wikipedia.org/wiki/Histograma]"
   ]
  },
  {
   "cell_type": "code",
   "execution_count": null,
   "metadata": {
    "id": "aC8aejmlcaym"
   },
   "outputs": [],
   "source": []
  },
  {
   "cell_type": "markdown",
   "metadata": {
    "id": "FN4kJotHcdX0"
   },
   "source": [
    "15. Convierta un texto de código morse a inglés y viceversa"
   ]
  },
  {
   "cell_type": "code",
   "execution_count": null,
   "metadata": {
    "id": "loTsOI4CcdiU"
   },
   "outputs": [],
   "source": []
  },
  {
   "cell_type": "markdown",
   "metadata": {
    "id": "zXCcY8eAcf1r"
   },
   "source": [
    "16. Determine si una cadena de texto es palindrome o no"
   ]
  },
  {
   "cell_type": "code",
   "execution_count": null,
   "metadata": {
    "id": "Nwmr27ZscgAG"
   },
   "outputs": [],
   "source": []
  }
 ],
 "metadata": {
  "colab": {
   "collapsed_sections": [],
   "name": "A6_Listas.ipynb",
   "provenance": []
  },
  "kernelspec": {
   "display_name": "Python 3",
   "language": "python",
   "name": "python3"
  },
  "language_info": {
   "codemirror_mode": {
    "name": "ipython",
    "version": 3
   },
   "file_extension": ".py",
   "mimetype": "text/x-python",
   "name": "python",
   "nbconvert_exporter": "python",
   "pygments_lexer": "ipython3",
   "version": "3.7.6"
  }
 },
 "nbformat": 4,
 "nbformat_minor": 1
}
