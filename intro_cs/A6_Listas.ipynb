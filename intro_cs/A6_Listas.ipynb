{
 "cells": [
  {
   "cell_type": "markdown",
   "metadata": {
    "id": "Xq_hs1jGRtLR"
   },
   "source": [
    "*“Computer Science is embarrassed by the computer.”*\n",
    "\n",
    "__Alan Perlis__"
   ]
  },
  {
   "cell_type": "markdown",
   "metadata": {
    "id": "zYW3ZR0NSLk7"
   },
   "source": [
    "## Problemas"
   ]
  },
  {
   "cell_type": "markdown",
   "metadata": {
    "id": "Lw7Zrm0lJ52N"
   },
   "source": [
    "1. Encuentre el valor máximo en una lista, sin utilizar funciones nativas"
   ]
  },
  {
   "cell_type": "code",
   "execution_count": 2,
   "metadata": {
    "colab": {
     "base_uri": "https://localhost:8080/"
    },
    "executionInfo": {
     "elapsed": 1018,
     "status": "ok",
     "timestamp": 1604434876013,
     "user": {
      "displayName": "francisco gomez",
      "photoUrl": "https://lh3.googleusercontent.com/a-/AOh14Gh1paMBTss7Qj4xEFsNAxZ3iXqx3aKAT34suasN2Q=s64",
      "userId": "02748555324622580505"
     },
     "user_tz": 300
    },
    "id": "RUcWXtUQJ9E0",
    "outputId": "a2705972-9f67-4d34-c21a-2a273f99c045"
   },
   "outputs": [
    {
     "name": "stdout",
     "output_type": "stream",
     "text": [
      "Lista\n",
      "[56, 21, -84, -20, 22, -77, -84, 57, -76, 63, 96, -24, 36, 57, -7, -6, -46, -85, -42, 37]\n",
      "\n",
      "\n",
      "El mayor número es: \n",
      "96\n"
     ]
    }
   ],
   "source": [
    "import random\n",
    "# genero una lista random de número a evaluar\n",
    "lista = [random.randint(-99,99) for i in range(20)]\n",
    "greatest = 0\n",
    "print(\"Lista\")\n",
    "print(lista)\n",
    "# para encontrar el mayor, lo evalúo uno a uno \n",
    "for i in range(len(lista)):\n",
    "    if greatest < lista[i]:\n",
    "        greatest = lista[i]\n",
    "print(\"\\n\")\n",
    "print(\"El mayor número es: \")\n",
    "print(greatest)"
   ]
  },
  {
   "cell_type": "markdown",
   "metadata": {
    "id": "B72fnfAPFZNz"
   },
   "source": [
    "2. Imprima todos los números negativos en una lista"
   ]
  },
  {
   "cell_type": "code",
   "execution_count": 7,
   "metadata": {
    "colab": {
     "base_uri": "https://localhost:8080/"
    },
    "executionInfo": {
     "elapsed": 791,
     "status": "ok",
     "timestamp": 1604434937900,
     "user": {
      "displayName": "francisco gomez",
      "photoUrl": "https://lh3.googleusercontent.com/a-/AOh14Gh1paMBTss7Qj4xEFsNAxZ3iXqx3aKAT34suasN2Q=s64",
      "userId": "02748555324622580505"
     },
     "user_tz": 300
    },
    "id": "JiCFfhv2FZWL",
    "outputId": "fd499f0e-f1da-41d5-ffb8-292b78ddd4d6"
   },
   "outputs": [
    {
     "name": "stdout",
     "output_type": "stream",
     "text": [
      "Lista\n",
      "[-22, 6, -62, -26, 69, 21, -46, 69, -60, -42, -64, -98, 41, -67, 3, 39, 50, -11, 98, 15]\n",
      "\n",
      "\n",
      "Números negatívos de la lista: \n",
      "-22, -62, -26, -46, -60, -42, -64, -98, -67, -11, "
     ]
    }
   ],
   "source": [
    "lista = [random.randint(-99,99) for i in range(20)]\n",
    "print(\"Lista\")\n",
    "print(lista)\n",
    "print(\"\\n\")\n",
    "print(\"Números negatívos de la lista: \")\n",
    "for i in lista:\n",
    "    if i < 0:\n",
    "        print(i, end=\", \")"
   ]
  },
  {
   "cell_type": "markdown",
   "metadata": {
    "id": "FP5SChrPE1qp"
   },
   "source": [
    "3. Ordene una lista de números"
   ]
  },
  {
   "cell_type": "code",
   "execution_count": 12,
   "metadata": {
    "id": "HXJhejw4FLsy"
   },
   "outputs": [
    {
     "name": "stdout",
     "output_type": "stream",
     "text": [
      "Lista\n",
      "[-8, 59, -61, 62, 67, 57, 51, 84, 79, -86, -17, 75, 69, -64, -81, 22, -88, 63, -28, -29]\n",
      "\n",
      "\n",
      "Lista ordenada menor a mayor: \n",
      "[-88, -86, -81, -64, -61, -29, -28, -17, -8, 22, 51, 57, 59, 62, 63, 67, 69, 75, 79, 84]\n"
     ]
    }
   ],
   "source": [
    "lista = [random.randint(-99,99) for i in range(20)]\n",
    "print(\"Lista\")\n",
    "print(lista)\n",
    "print(\"\\n\")\n",
    "print(\"Lista ordenada menor a mayor: \")\n",
    "disorder = True\n",
    "while disorder:\n",
    "    leave = True\n",
    "    for i in range(len(lista)-1):\n",
    "        if lista[i] > lista[i+1]:\n",
    "            a = lista[i]\n",
    "            lista[i] = lista[i+1]\n",
    "            lista[i+1] = a\n",
    "            leave = False\n",
    "    if leave:\n",
    "        disorder = False\n",
    "print(lista) "
   ]
  },
  {
   "cell_type": "markdown",
   "metadata": {
    "id": "OKKbv1BKFMex"
   },
   "source": [
    "4. Dado un número n escriba todas las posibles permutaciones de los enteros entre 1 y n"
   ]
  },
  {
   "cell_type": "code",
   "execution_count": 58,
   "metadata": {
    "id": "1f_EIYa9FMp2"
   },
   "outputs": [
    {
     "name": "stdout",
     "output_type": "stream",
     "text": [
      "Ingrese el número n: 6\n",
      "Posibles permutaciones entre los números del entre 1 y 6: \n",
      "[[[1, 2, 3, 4, 5, 6], [1, 2, 3, 4, 5], [1, 2, 3, 4], [1, 2, 3], [1, 2]], [[1, 3, 4, 5, 6], [1, 3, 4, 5], [1, 3, 4], [1, 3]], [[1, 4, 5, 6], [1, 4, 5], [1, 4]], [[1, 5, 6], [1, 5]], [[1, 6]], [[2, 3, 4, 5, 6], [2, 3, 4, 5], [2, 3, 4], [2, 3]], [[2, 4, 5, 6], [2, 4, 5], [2, 4]], [[2, 5, 6], [2, 5]], [[2, 6]], [[3, 4, 5, 6], [3, 4, 5], [3, 4]], [[3, 5, 6], [3, 5]], [[3, 6]], [[4, 5, 6], [4, 5]], [[4, 6]], [[5, 6]]]\n"
     ]
    }
   ],
   "source": [
    "# pido el número n para popular la lista\n",
    "n = int(input(\"Ingrese el número n: \"))\n",
    "lista = [i+1 for i in range(n)]\n",
    "\n",
    "# inicializo un array donde guardaré las permutaciones\n",
    "matx = []\n",
    "\n",
    "# recorro por el total de elementos en en arreglo\n",
    "for k in range(len(lista)):\n",
    "    \n",
    "    #según la posición del arreglo se crea una nueva lista en cada iteración para\n",
    "    #popular la serie de cada nuevo número inicial\n",
    "    lista_b = lista[k:]\n",
    "    length = len(lista_b)\n",
    "    \n",
    "    #recorro dadas la posibilidades del tamaño de la nueva lista - 1 que es el número que\n",
    "    #se va asociando con el array cada vez que se recorre\n",
    "    for i in range(length-1):\n",
    "        \n",
    "        # creo seguidamente una lista populada con el numero inicial y con un rango total del\n",
    "        # recorrido anterior menos el paso que lleva el recorrido\n",
    "        arr = [[lista_b[0]] for x in range(length-1-i)]\n",
    "        \n",
    "        #la idea es crear las permutaciones dadas desde el punto de vista del número inicial\n",
    "        #de la lista creada a partir de la lista original\n",
    "        for j in range(i+1, length):\n",
    "            for r in range(len(arr)):\n",
    "                # por cada iteración a popular la lista, se reduce en el número del paso para\n",
    "                # limitarla respecto a la posición \"vertical\"\n",
    "                if r + j <= len(arr)+i:\n",
    "                    arr[r].append(lista_b[j])\n",
    "        matx.append(arr)\n",
    "#         print(arr)\n",
    "print(\"Posibles permutaciones entre los números del entre 1 y {}: \".format(n))\n",
    "print(matx)"
   ]
  },
  {
   "cell_type": "markdown",
   "metadata": {
    "id": "PgqWFNG5MH_S"
   },
   "source": [
    "5. Encuentre todos los pares de elementos en una lista cuya suma sea igual a un número especificado"
   ]
  },
  {
   "cell_type": "code",
   "execution_count": 79,
   "metadata": {
    "id": "CUESPjKTMIJS"
   },
   "outputs": [
    {
     "name": "stdout",
     "output_type": "stream",
     "text": [
      "[14, 13, 19, 9, 13, 20, 10, 18, 2, 1, 16, 13, 15, 10, 17, 9, 14, 6, 18, 17]\n",
      "\n",
      "\n",
      "Ingrese el número especificado: 25\n",
      "Los pares de elementos cuya suma coinciden con el número especificado son:\n",
      "[19,6] [9,16] [10,15] [16,9] [15,10] "
     ]
    }
   ],
   "source": [
    "# dada una lista cualquiera\n",
    "lista = [random.randint(0,20) for i in range(20)]\n",
    "print(lista)\n",
    "print(\"\\n\")\n",
    "# y dado el un número n especificado\n",
    "n = int(input(\"Ingrese el número especificado: \"))\n",
    "count = 0\n",
    "print(\"Los pares de elementos cuya suma coinciden con el número especificado son:\")\n",
    "\n",
    "# para tomar cada vez el primer elemento mientras recorre la lista\n",
    "for i in range(len(lista)):\n",
    "    \n",
    "#     para tomar el elemento siguiente del elemento inicial mientras recorre la lista\n",
    "    for j in range(i+1, len(lista)):\n",
    "#         una comparación para ver si coincide con el número a encontrar dada la pareja\n",
    "        if lista[i] + lista[j] == n: \n",
    "            count += 1\n",
    "            print(\"[{},{}]\".format(lista[i], lista[j]), end=\" \")\n",
    "\n",
    "if count == 0:\n",
    "    print(\"No se encontraron parejas de elementos con  suma = {}.\".format(n))\n"
   ]
  },
  {
   "cell_type": "markdown",
   "metadata": {
    "id": "w6aG4ekFFfv8"
   },
   "source": [
    "6. Calcule el promedio y la suma de los elementos en una lista"
   ]
  },
  {
   "cell_type": "code",
   "execution_count": 83,
   "metadata": {
    "id": "-91xnpfrFf3S"
   },
   "outputs": [
    {
     "name": "stdout",
     "output_type": "stream",
     "text": [
      "[15, 12, 7, 5, 0, 2, 19, 0, 0, 2, 3, 5, 17, 19, 15, 1, 6, 1, 6, 8]\n",
      "\n",
      " La suma de los elementos de la lista es:  143\n",
      "\n",
      " El promedio de la lista es:  7.15\n"
     ]
    }
   ],
   "source": [
    "# dada una lista arbitraria\n",
    "lista = [random.randint(0,20) for i in range(20)]\n",
    "print(lista)\n",
    "# inicializo variable donde guardo la suma de los elementos\n",
    "total = 0\n",
    "print(\"\\n\",\"La suma de los elementos de la lista es: \", end=\" \")\n",
    "# recorro los elementos y los voy sumando\n",
    "for i in lista:\n",
    "    total += i\n",
    "print(total)\n",
    "print(\"\\n\",\"El promedio de la lista es: \", end=\" \")\n",
    "# a la suma de los elementos le resto la cantidad de elementos en lista\n",
    "print(total/len(lista))"
   ]
  },
  {
   "cell_type": "markdown",
   "metadata": {
    "id": "47xu0dynFw9R"
   },
   "source": [
    "7. Calcule la suma de los elementos de dos listas"
   ]
  },
  {
   "cell_type": "code",
   "execution_count": 104,
   "metadata": {
    "id": "MzX3bSIxFxIa"
   },
   "outputs": [
    {
     "name": "stdout",
     "output_type": "stream",
     "text": [
      "Dadas las listas: \n",
      "lista 1  =   [14, 9, 6, 13, 2, 7, 12, 2, 11, 5, 15, 20, 10, 8, 11, 2, 7, 17]\n",
      "lista 2  =   [6, 1, 7, 2, 5, 9, 9, 5, 8, 16, 12, 14, 17, 8, 4]\n",
      "Lista 1+2 =  [20, 10, 13, 15, 7, 16, 21, 7, 19, 21, 27, 34, 27, 16, 15, 2, 7, 17]\n",
      "El total de la suma de las dos listas es =  294\n"
     ]
    }
   ],
   "source": [
    "# dadas 2 listas de tamaño y elementos diferentes:\n",
    "lista = []\n",
    "for i in range(2):\n",
    "    size = random.randint(5,20)\n",
    "    arr = [random.randint(1,20) for i in range(size)]\n",
    "    lista.append(arr)\n",
    "\n",
    "print(\"Dadas las listas: \")\n",
    "# simple iteracion para mostrar las listas contenidas en lista\n",
    "for i in range(len(lista)):\n",
    "    print(\"lista {}  =  \".format(i+1),lista[i])\n",
    "\n",
    "# tomo el valor del resultado de la resta entre los tamaños de las listas\n",
    "# para determinar el número que indicara donde parar de sumar más adelante dada\n",
    "# la lista\n",
    "track = abs(len(lista[0]) - len(lista[1])) \n",
    "adder = []\n",
    "# tambien asigno a una lista la lista más grande\n",
    "if len(lista[0]) > len(lista[1]):\n",
    "    adder = lista[0]\n",
    "else:\n",
    "    adder = lista[1]\n",
    "\n",
    "\n",
    "print(\"Lista 1+2 = \",end=\" \")\n",
    "# recorro la lista más grande y hasta el tamaño de la menor, sumo las 2 listas, en\n",
    "# adelante solo dejo el valor de la más grande\n",
    "for i in range(len(adder)):\n",
    "    if i <= len(adder) - 1 - track:\n",
    "        adder[i] = lista[0][i] + lista[1][i]\n",
    "print(adder)\n",
    "\n",
    "print(\"El total de la suma de las dos listas es = \", end=\" \")\n",
    "total = 0\n",
    "for i in adder:\n",
    "    total += i\n",
    "print(total)"
   ]
  },
  {
   "cell_type": "markdown",
   "metadata": {
    "id": "S599fJnrLlk7"
   },
   "source": [
    "8. Encuentre el segundo elemento más grande en una lista"
   ]
  },
  {
   "cell_type": "code",
   "execution_count": 118,
   "metadata": {
    "id": "Uvy08g4MLlxU"
   },
   "outputs": [
    {
     "name": "stdout",
     "output_type": "stream",
     "text": [
      "Dada la lista: [1, 8, 19, 20, 3, 9, 17, 5, 4, 12, 7, 11, 18, 8, 2, 5, 21]\n",
      "El segundo elemento más grande es:  20 .\n"
     ]
    }
   ],
   "source": [
    "# dada una lista cualquiera\n",
    "lista = [1,8,19,20,3,9,17,5,4,12,7,11,18,8,2,5,21]\n",
    "print(\"Dada la lista: {}\".format(lista))\n",
    "# declaro 2 variables donde voy a guardar el número más grande y el que le sigue\n",
    "a = 0\n",
    "b = 0\n",
    "# recoro la lista en busca del elemento más grande:\n",
    "for i in range(len(lista)):\n",
    "#     si encuentra un elemento más grande que a entonces a pasa a ser b\n",
    "#     y el elemento pasa a ser a\n",
    "    if lista[i] >= a:\n",
    "        b = a\n",
    "        a = lista[i]\n",
    "#     dado un elemento, tiene que ser menor o igual al elemento más grande al momento\n",
    "#     y tiene que ser mayor a b para ser asignado\n",
    "    elif lista[i] <= a and lista[i] > b:\n",
    "        b = lista[i]\n",
    "print(\"El segundo elemento más grande es: \", b, \".\")"
   ]
  },
  {
   "cell_type": "markdown",
   "metadata": {
    "id": "kluLrKL7LphH"
   },
   "source": [
    "9. Mezcle los elementos de dos listas en una sola lista ordenada"
   ]
  },
  {
   "cell_type": "code",
   "execution_count": 95,
   "metadata": {
    "id": "9PisdmFlLprA"
   },
   "outputs": [
    {
     "name": "stdout",
     "output_type": "stream",
     "text": [
      "Dadas las listas: \n",
      "lista 1  =   [14, 18, 6, 16, 9, 3, 3, 3, 17, 3, 19, 1, 2]\n",
      "lista 2  =   [16, 12, 14, 2, 15, 11, 8, 9, 5, 12, 12, 4, 17, 1]\n",
      "\n",
      "\n",
      "Unidas y organizadas dan: \n",
      "[1, 1, 2, 2, 3, 3, 3, 3, 4, 5, 6, 8, 9, 9, 11, 12, 12, 12, 14, 14, 15, 16, 16, 17, 17, 18, 19]\n"
     ]
    }
   ],
   "source": [
    "# organizo las listas con lo hecho en un punto anterior\n",
    "def organice(arreglo):\n",
    "    disorder = True\n",
    "    while disorder:\n",
    "        leave = True\n",
    "        for x in range(len(arreglo)-1):\n",
    "            if arreglo[x] > arreglo[x+1]:\n",
    "                a = arreglo[x]\n",
    "                arreglo[x] = arreglo[x+1]\n",
    "                arreglo[x+1] = a\n",
    "                leave = False\n",
    "        if leave:\n",
    "            disorder = False\n",
    "\n",
    "# dadas 2 listas de tamaño y elementos diferentes:\n",
    "lista = []\n",
    "for i in range(2):\n",
    "    size = random.randint(5,20)\n",
    "    arr = [random.randint(1,20) for i in range(size)]\n",
    "    lista.append(arr)\n",
    "    \n",
    "print(\"Dadas las listas: \")\n",
    "# simple iteracion para mostrar las listas contenidas en lista\n",
    "for i in range(len(lista)):\n",
    "    print(\"lista {}  =  \".format(i+1),lista[i])\n",
    "\n",
    "# tomo la asignacion de la lista más grande\n",
    "e = (0 if len(lista[0]) > len(lista[1]) else 1)\n",
    "\n",
    "# organizo cada lista por separado.. si yo se que puder haber unido y luego organizado las listas\n",
    "# pero tambien hay situaciones donde se dan listas ordenadas inicialmente y al mezclarlas toca volver\n",
    "# a ordenarlas lo que si son \"complicadas\"  de ordenar entonces perderia aun mas tiempo\n",
    "for arr in lista:\n",
    "    arr = organice(arr)\n",
    "print(\"\\n\")   \n",
    "print(\"Unidas y organizadas dan: \")\n",
    "\n",
    "len_lista = len(lista[e])\n",
    "i = 0\n",
    "while i <= len(lista[e]):\n",
    "    # evalua si la segunda lista todavia tiene elementos y si el tamaño de la lista es mayor al indice del recorrido\n",
    "    if len(lista[1-e]) != 0 and len(lista[e]) > i:\n",
    "        # dado lo anterior evaluo si el primer elemento de la otra lista es menor o al elemento de la lista evaluada\n",
    "        if lista[1-e][0] < lista[e][i]:\n",
    "            #le quito el primer elemento a la otra lista y lo asigno a a\n",
    "            a = lista[1-e].pop(0)\n",
    "            #luego en el indice lo agrego a la lista evaluada\n",
    "            lista[e].insert(i, a)\n",
    "            i += 1\n",
    "        # evaluo si es la ultima posicion de la lista y si quedan elementos entonces los agrega a la lista recorrida\n",
    "        # por ende tambien rompe el while\n",
    "        elif i+1 == len(lista[e]):\n",
    "            #agrego lo restante de la otra lista al final de la lista evaluada\n",
    "            lista[e].extend(lista[1-e])\n",
    "            break\n",
    "        else:\n",
    "            i += 1\n",
    "    else:\n",
    "        break\n",
    "print(lista[e])\n",
    "        "
   ]
  },
  {
   "cell_type": "markdown",
   "metadata": {
    "id": "1emFpwGjL6o9"
   },
   "source": [
    "10. Encuentre los dos elementos de una lista con la diferencia más grande entre ellos"
   ]
  },
  {
   "cell_type": "code",
   "execution_count": 97,
   "metadata": {
    "id": "O4FldweFcSAj"
   },
   "outputs": [
    {
     "name": "stdout",
     "output_type": "stream",
     "text": [
      "Dadas la lista: \n",
      "[2, 19, 20, 4, 16, 5, 10, 20, 11, 10, 15, 8, 1, 14, 8, 2, 5, 11, 17, 2]\n",
      "los elementos con la diferencia más grande son: 1 y 20\n"
     ]
    }
   ],
   "source": [
    "# se podria resumir en encontrar el menor y el mayor elemento dentro de la lista\n",
    "# dada una lista arbitraria\n",
    "print(\"Dadas la lista: \")\n",
    "lista = [random.randint(0,20) for i in range(20)]\n",
    "print(lista)\n",
    "# defino una lista para guardar el menor y mayor elemento de la lista desde el\n",
    "# primer elemento de la lista\n",
    "ab = [lista[0],lista[0]]\n",
    "# ahora solo recorro la lista e identifico dentro del rango cuál es mayor y menor\n",
    "for i in range(1,len(lista)-1):\n",
    "    if lista[i] > ab[1]:\n",
    "        ab[1] = lista[i]\n",
    "    elif lista[i] < ab[0]:\n",
    "        ab[0] = lista[i]\n",
    "\n",
    "print(f'los elementos con la diferencia más grande son: {ab[0]} y {ab[1]}')"
   ]
  },
  {
   "cell_type": "markdown",
   "metadata": {
    "id": "GjFkz87icRKv"
   },
   "source": [
    "11. Encuentre los dos elementos de una lista cuya suma sea más cercana a cero"
   ]
  },
  {
   "cell_type": "code",
   "execution_count": 98,
   "metadata": {
    "id": "ycutVAZZL6wL"
   },
   "outputs": [
    {
     "name": "stdout",
     "output_type": "stream",
     "text": [
      "Dadas la lista: \n",
      "[11, 2, 1, 8, 19, 17, 13, 3, 16, 5, 13, 5, 13, 3, 6, 16, 7, 2, 15, 13]\n",
      "Los elementos cuya suma es más cercana a 0 son 2 y 1\n"
     ]
    }
   ],
   "source": [
    "# creo que se resume en encontrar los 2 menores números dentro de la lista\n",
    "# dada una lista arbitraria\n",
    "print(\"Dadas la lista: \")\n",
    "lista = [random.randint(0,20) for i in range(20)]\n",
    "print(lista)\n",
    "\n",
    "# defino una lista donde guardo los elementos\n",
    "ab = [lista[0],lista[0]]\n",
    "\n",
    "for i in range(1,len(lista)):\n",
    "    #determino si el elemento dentro de la lista es menor y si lo es lo agrego a la lista de reserva\n",
    "    if lista[i] <= ab[0]:\n",
    "        ab[0] = lista[i]\n",
    "    # si el elemento es menor que el segundo elemento de la lista de reserva, hago un cambio entre los elementos\n",
    "    if ab[0] < ab[1]:\n",
    "        a = ab[1]\n",
    "        ab[1] = ab[0]\n",
    "        ab[0] = a\n",
    "\n",
    "print(f'Los elementos cuya suma es más cercana a 0 son {ab[0]} y {ab[1]}')"
   ]
  },
  {
   "cell_type": "markdown",
   "metadata": {
    "id": "gbgnZsxccVJc"
   },
   "source": [
    "12. Calcule la lista que resulta de la unión entre los elementos de otras dos listas"
   ]
  },
  {
   "cell_type": "code",
   "execution_count": 105,
   "metadata": {
    "id": "lEOuUIJNcVUE"
   },
   "outputs": [
    {
     "name": "stdout",
     "output_type": "stream",
     "text": [
      "Dadas las listas: \n",
      "a = [1, 2, 3, 4, 5, 6, 7, 8, 9, 10]\n",
      "b = [2, 4, 6, 8, 10, 12, 14, 16, 18, 20]\n",
      "\n",
      "\n",
      "la unión de las listas da como resultado: \n",
      "[1, 2, 3, 4, 5, 6, 7, 8, 9, 10, 12, 14, 16, 18, 20]\n"
     ]
    }
   ],
   "source": [
    "# tomo 2 listas arbitrarias..\n",
    "print(\"Dadas las listas: \")\n",
    "a = [1,2,3,4,5,6,7,8,9,10]\n",
    "b = [2,4,6,8,10,12,14,16,18,20]\n",
    "c = b\n",
    "print(f'a = {a}')\n",
    "print(f'b = {b}')\n",
    "# recorro los elementos de la lista a\n",
    "for numa in a:\n",
    "#     si el elemento no se encuentra en la lista entonces lo agrego a la nueva lista\n",
    "    if b.count(numa) == 0:\n",
    "        c.append(numa)\n",
    "# utilizo entonces como por organizar un poco la funcion de organizar que habia hecho anteriormente\n",
    "organice(c)\n",
    "print(\"\\n\")\n",
    "print(\"la unión de las listas da como resultado: \")\n",
    "print(c)"
   ]
  },
  {
   "cell_type": "markdown",
   "metadata": {
    "id": "AxQWaXKjcYGm"
   },
   "source": [
    "13. Calcule la lista que resulta de la intersección entre los elementos de otras dos listas"
   ]
  },
  {
   "cell_type": "code",
   "execution_count": 123,
   "metadata": {
    "id": "P0QvK-JrcYPl"
   },
   "outputs": [
    {
     "name": "stdout",
     "output_type": "stream",
     "text": [
      "Dadas las listas: \n",
      "lista a = [13, 11, 18, 20, 10, 19, 8, 12, 20, 13, 2, 18, 14, 19]\n",
      "lista b = [20, 12, 19, 12, 4, 10, 7]\n",
      "\n",
      "\n",
      "La lista resultado de la intersección es:\n",
      "[20, 10, 19, 12]\n"
     ]
    }
   ],
   "source": [
    "# dadas 2 listas de tamaño y elementos diferentes:\n",
    "lista = []\n",
    "for i in range(2):\n",
    "    size = random.randint(5,20)\n",
    "    arr = [random.randint(1,20) for i in range(size)]\n",
    "    lista.append(arr)\n",
    "    \n",
    "# recorro una lista y la comparo con los elementos de la otra\n",
    "# si encuentra algun match entonces lo pone en la lista\n",
    "# ademas, voy a evitar tomar elementos repetidos de una o de la otra lista\n",
    "\n",
    "print(\"Dadas las listas: \")\n",
    "print(f'lista a = {lista[0]}')\n",
    "print(f'lista b = {lista[1]}')\n",
    "\n",
    "mvp = (1 if len(lista[0]) > len(lista[1]) else 0)\n",
    "c = []\n",
    "i_list = []\n",
    "\n",
    "# para eliminar numeros repetidos de una lista, asigno los\n",
    "# indices repetidos en una lista\n",
    "for i in range(len(lista[mvp])-1):\n",
    "    for j in range(i+1, len(lista[mvp])):\n",
    "        if lista[mvp][i] == lista[mvp][j]:\n",
    "            i_list.append(i)\n",
    "# luego con esa lista los elimino de la lista donde estaban\n",
    "# el count va porque cada vez que eliminaba un elemento la lista\n",
    "# se hacia mas pequeña\n",
    "count = 0\n",
    "for i in i_list:\n",
    "    lista[mvp].pop(i-count)\n",
    "    count += 1\n",
    "\n",
    "# ahora solo comparo un elemento de la otra lista con elementos de\n",
    "# la lista que acabamos de limpiar y cada vez que encuentre \n",
    "# coincidencias la elimina de la lista original y la pasa a la otra\n",
    "# nueva lista\n",
    "for i in range(len(lista[1-mvp])):\n",
    "    for j in range(len(lista[mvp])):\n",
    "        if lista[mvp][j] == lista[1-mvp][i]:\n",
    "            c.append(lista[mvp].pop(j))\n",
    "            break\n",
    "print(\"\\n\")\n",
    "print(\"La lista resultado de la intersección es:\")\n",
    "print(c)\n"
   ]
  },
  {
   "cell_type": "markdown",
   "metadata": {
    "id": "CUX_zeJKcand"
   },
   "source": [
    "14 Dado un conjunto de elementos en una lista calcule su (histograma)https://es.wikipedia.org/wiki/Histograma"
   ]
  },
  {
   "cell_type": "code",
   "execution_count": 125,
   "metadata": {},
   "outputs": [
    {
     "name": "stdout",
     "output_type": "stream",
     "text": [
      "Requirement already satisfied: requests in c:\\programdata\\anaconda3\\envs\\py3\\lib\\site-packages (2.25.0)\n",
      "Requirement already satisfied: idna<3,>=2.5 in c:\\programdata\\anaconda3\\envs\\py3\\lib\\site-packages (from requests) (2.10)\n",
      "Requirement already satisfied: certifi>=2017.4.17 in c:\\programdata\\anaconda3\\envs\\py3\\lib\\site-packages (from requests) (2020.11.8)\n",
      "Requirement already satisfied: chardet<4,>=3.0.2 in c:\\programdata\\anaconda3\\envs\\py3\\lib\\site-packages (from requests) (3.0.4)\n",
      "Requirement already satisfied: urllib3<1.27,>=1.21.1 in c:\\programdata\\anaconda3\\envs\\py3\\lib\\site-packages (from requests) (1.25.11)\n"
     ]
    }
   ],
   "source": [
    "!pip install requests"
   ]
  },
  {
   "cell_type": "code",
   "execution_count": 75,
   "metadata": {
    "scrolled": true
   },
   "outputs": [
    {
     "name": "stdout",
     "output_type": "stream",
     "text": [
      "[18, 3, 3, 8, 8, 1, 9]\n"
     ]
    },
    {
     "data": {
      "image/png": "[encoded data removed]",
      "text/plain": [
       "<Figure size 720x360 with 1 Axes>"
      ]
     },
     "metadata": {
      "needs_background": "light"
     },
     "output_type": "display_data"
    }
   ],
   "source": [
    "# solo como para hacer un llamado a una api y obtener los datos..\n",
    "import requests\n",
    "import matplotlib.pyplot as plt\n",
    "\n",
    "pokemons = []\n",
    "\n",
    "for i in range(1,51):\n",
    "    URL = f'https://pokeapi.co/api/v2/pokemon/{i}/'\n",
    "    r = requests.get(url=URL)\n",
    "    data = r.json()\n",
    "    pokemon = {'id':i,\n",
    "               'name':data[\"name\"],\n",
    "               'base_exp':data[\"base_experience\"],\n",
    "               'height':data[\"height\"],\n",
    "               'weight':data[\"weight\"],\n",
    "              }\n",
    "    pokemons.append(pokemon)\n",
    "# digamos que tomo la experiencia base\n",
    "\n",
    "# tomo el valor más grande y el valor más pequeño\n",
    "# para eso asigno en una variable los valores del primer pkmon\n",
    "values = [pokemons[0]['base_exp'],pokemons[0]['base_exp']]\n",
    "\n",
    "# y voy comparando uno a uno los valores para encontrar lo deseado\n",
    "# con estos valores determinamos el rango\n",
    "# de una vez saco aparte la base_exp de los pokemones\n",
    "base_exp = []\n",
    "for pk in pokemons:\n",
    "    base_exp.append(pk['base_exp'])\n",
    "    if pk['base_exp'] > values[0]:\n",
    "        values[0] = pk['base_exp']\n",
    "    elif pk['base_exp'] < values[1]:\n",
    "        values[1] = pk['base_exp']\n",
    "        \n",
    "# restamos los valores para obtener el rango\n",
    "rango = values[0] - values[1]\n",
    "# el número de intervalos de clase se hace con la raiz cuadrada\n",
    "# del número de datos\n",
    "total_data = len(pokemons)\n",
    "intervals = round((total_data)**0.5)\n",
    "\n",
    "# la amplitud del intervalo se calcula con rango/intervals\n",
    "amplitud = rango/intervals\n",
    "\n",
    "# las clases se definen dada la amplitud en el tamaño del rango\n",
    "class_interval = [values[1]]\n",
    "for index in range(intervals):\n",
    "    clase = class_interval[-1] + amplitud\n",
    "    class_interval.append(clase)\n",
    "\n",
    "\n",
    "# agrupo cada valor dado esos intervalos y con eso veo la frecuencia\n",
    "freq = []\n",
    "for i in range(len(class_interval)-1):\n",
    "    freq_exp = 0\n",
    "    length = len(base_exp)\n",
    "    for exp in base_exp:\n",
    "        if exp >= class_interval[i] and exp < class_interval[i+1]:\n",
    "            freq_exp += 1\n",
    "    freq.append(freq_exp)\n",
    "\n",
    "# lo siguiente es solo para darle nombre a los rangos dentro del histograma\n",
    "class_name = []\n",
    "for i in range(len(class_interval)):\n",
    "    if i < len(class_interval)-1:\n",
    "        class_name.append(f'{round(class_interval[i])} - {round(class_interval[i+1])}')\n",
    "\n",
    "# ahora solo muestro una representacion grafica de lo obtenido\n",
    "print(freq)\n",
    "%matplotlib inline\n",
    "fig = plt.figure(figsize = (10, 5)) \n",
    "ax = fig.add_axes([0,0,1,1])\n",
    "ax.bar(class_name,freq)\n",
    "plt.show()\n",
    "\n",
    "\n"
   ]
  },
  {
   "cell_type": "markdown",
   "metadata": {
    "id": "FN4kJotHcdX0"
   },
   "source": [
    "15. Convierta un texto de código morse a inglés y viceversa"
   ]
  },
  {
   "cell_type": "code",
   "execution_count": 104,
   "metadata": {
    "id": "loTsOI4CcdiU"
   },
   "outputs": [
    {
     "name": "stdout",
     "output_type": "stream",
     "text": [
      "Dado el texto: \n",
      "MORSE CODE IS A METHOD USED IN TELECOMMUNICATION\n",
      "\n",
      "En código Morse : \n",
      "-- --- •-• ••• •  -•-• --- -•• •  •• •••  •-  -- • - •••• --- -••  ••- ••• • -••  •• -•  - • •-•• • -•-• --- -- -- ••- -• •• -•-• •- - •• --- -•  \n",
      "\n",
      "En a texto nuevamente : \n",
      "MORSE CODE IS A METHOD USED IN TELECOMMUNICATION "
     ]
    }
   ],
   "source": [
    "# creo un diccionario con las letras a codigo morse\n",
    "morse = {\n",
    "    'A' : '•-',\n",
    "    'B' : '-•••',\n",
    "    'C' : '-•-•',\n",
    "    'D' : '-••',\n",
    "    'E' : '•',\n",
    "    'F' : '••-•',\n",
    "    'G' : '--•',\n",
    "    'H' : '••••',\n",
    "    'I' : '••',\n",
    "    'J' : '•---',\n",
    "    'K' : '-•-',\n",
    "    'L' : '•-••',\n",
    "    'M' : '--',\n",
    "    'N' : '-•',\n",
    "    'O' : '---',\n",
    "    'P' : '•--•',\n",
    "    'Q' : '--•-',\n",
    "    'R' : '•-•',\n",
    "    'S' : '•••',\n",
    "    'T' : '-',\n",
    "    'U' : '••-',\n",
    "    'V' : '•••-',\n",
    "    'W' : '•--',\n",
    "    'X' : '-••-',\n",
    "    'Y' : '-•--',\n",
    "    'Z' : '--••',\n",
    "}\n",
    "# y dado un texto\n",
    "texto = 'MORSE CODE IS A METHOD USED IN TELECOMMUNICATION'\n",
    "print('Dado el texto: ')\n",
    "print(texto)\n",
    "print(\"\")\n",
    "print('En código Morse : ')\n",
    "# lo separo en palabras\n",
    "chunks = texto.split()\n",
    "trans_morse = []\n",
    "# y de las palabras tomo cada letra y cada letra la evaluo en el diccionario\n",
    "# para que me devuelva su valor en codigo\n",
    "for word in chunks:\n",
    "    morse_word = []\n",
    "    for letter in word:\n",
    "        morse_word.append(morse[letter])\n",
    "        print(morse[letter],end=\" \")\n",
    "    trans_morse.append(morse_word)\n",
    "    print(\"\", end=\" \")\n",
    "\n",
    "# con lo guardado por letra y separado por palabra del codigo\n",
    "# paso a reformarlo a texto en ingles\n",
    "print(\"\\n\")\n",
    "print('En a texto nuevamente : ')\n",
    "for word in trans_morse:\n",
    "        for code in word:\n",
    "#             aqui simplemente evaluo el la pareja [value,key]\n",
    "#             y la asocio con el valor del codigo para convertirlo\n",
    "            for letter,c in morse.items():\n",
    "                if code == c:\n",
    "                    print(letter,end=\"\")\n",
    "        print(\"\", end=\" \")"
   ]
  },
  {
   "cell_type": "markdown",
   "metadata": {
    "id": "zXCcY8eAcf1r"
   },
   "source": [
    "16. Determine si una cadena de texto es palindrome o no"
   ]
  },
  {
   "cell_type": "code",
   "execution_count": 119,
   "metadata": {
    "id": "Nwmr27ZscgAG"
   },
   "outputs": [
    {
     "name": "stdout",
     "output_type": "stream",
     "text": [
      "Escriba la cadena de texto a determinar si es palíndrome o no: \n",
      "Alli va Ramon y no maravilla\n",
      "Es palíndromo "
     ]
    }
   ],
   "source": [
    "# dada la cadena de texto:\n",
    "texto = input(\"Escriba la cadena de texto a determinar si es palíndrome o no: \\n\")\n",
    "# texto = 'Alli va Ramon y no maravilla'\n",
    "texto = texto.lower()\n",
    "# creo una variable con el texto normal sin espacion y otra con el texto al revez\n",
    "normal = ''\n",
    "reverse = ''\n",
    "# la idea siguiente es tomar todo el texto sin espacios y convertido a minusculas\n",
    "# y \"voltear el texto, la primera letra sera la ultima\"\n",
    "for letter in texto:\n",
    "#     evito tomar espacios\n",
    "    if letter != ' ':\n",
    "#         voy concatenando en una la cadena con la letra\n",
    "#         y en la otra la letra con la cadena \n",
    "        normal += letter\n",
    "        reverse = letter + reverse\n",
    "# en español toca entonces dar más condiciones a ademas de espacios a tildes y demas puntuacion\n",
    "# finalmente comparo si son iguales\n",
    "res = \"Es palíndromo\" if reverse == normal else \"No es palíndromo\"\n",
    "print(res, end=\" \")"
   ]
  },
  {
   "cell_type": "code",
   "execution_count": null,
   "metadata": {},
   "outputs": [],
   "source": []
  }
 ],
 "metadata": {
  "colab": {
   "collapsed_sections": [],
   "name": "A6_Listas.ipynb",
   "provenance": []
  },
  "kernelspec": {
   "display_name": "Python 3",
   "language": "python",
   "name": "python3"
  },
  "language_info": {
   "codemirror_mode": {
    "name": "ipython",
    "version": 3
   },
   "file_extension": ".py",
   "mimetype": "text/x-python",
   "name": "python",
   "nbconvert_exporter": "python",
   "pygments_lexer": "ipython3",
   "version": "3.7.9"
  }
 },
 "nbformat": 4,
 "nbformat_minor": 1
}
