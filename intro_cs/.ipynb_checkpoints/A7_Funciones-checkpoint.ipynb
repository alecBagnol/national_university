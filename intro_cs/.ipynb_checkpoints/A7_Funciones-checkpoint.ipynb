{
 "cells": [
  {
   "cell_type": "markdown",
   "metadata": {
    "id": "Xq_hs1jGRtLR"
   },
   "source": [
    "*“To me, mathematics, computer science, and the arts are insanely related. They're all creative expressions.”*\n",
    "\n",
    "__Sebastian Thrun__"
   ]
  },
  {
   "cell_type": "markdown",
   "metadata": {
    "id": "zYW3ZR0NSLk7"
   },
   "source": [
    "## Problemas\n",
    "\n",
    "En la carpeta de los documentos se encuentra un libro en pdf (libro-completoProblemas.pdf [texto del enlace](https://drive.google.com/open?id=1os9N0GLelPG5C0O6-EENygVI2UIAFTcI)) con enunciados para problemas de programación. Por favor resuelva los siguientes problemas\n"
   ]
  },
  {
   "cell_type": "markdown",
   "metadata": {
    "id": "Lw7Zrm0lJ52N"
   },
   "source": [
    "1. (Pag 109) Cotejo de n-gramas"
   ]
  },
  {
   "cell_type": "code",
   "execution_count": null,
   "metadata": {
    "id": "RUcWXtUQJ9E0"
   },
   "outputs": [],
   "source": []
  },
  {
   "cell_type": "markdown",
   "metadata": {
    "id": "B72fnfAPFZNz"
   },
   "source": [
    "2. (Pag 110) Simulación de variables aleatorias"
   ]
  },
  {
   "cell_type": "code",
   "execution_count": null,
   "metadata": {
    "id": "JiCFfhv2FZWL"
   },
   "outputs": [],
   "source": []
  },
  {
   "cell_type": "markdown",
   "metadata": {
    "id": "FP5SChrPE1qp"
   },
   "source": [
    "3. (Pag 114) Conjetura para la formación de palindromos"
   ]
  },
  {
   "cell_type": "code",
   "execution_count": null,
   "metadata": {
    "id": "HXJhejw4FLsy"
   },
   "outputs": [],
   "source": []
  },
  {
   "cell_type": "markdown",
   "metadata": {
    "id": "OKKbv1BKFMex"
   },
   "source": [
    "4. (Pag 116) Tabla de Galton"
   ]
  },
  {
   "cell_type": "code",
   "execution_count": null,
   "metadata": {
    "id": "1f_EIYa9FMp2"
   },
   "outputs": [],
   "source": []
  },
  {
   "cell_type": "markdown",
   "metadata": {
    "id": "PgqWFNG5MH_S"
   },
   "source": [
    "5. (Pag 116) Retrato robot"
   ]
  },
  {
   "cell_type": "code",
   "execution_count": null,
   "metadata": {
    "id": "CUESPjKTMIJS"
   },
   "outputs": [],
   "source": []
  },
  {
   "cell_type": "markdown",
   "metadata": {
    "id": "w6aG4ekFFfv8"
   },
   "source": [
    "6. (Pag 118) Numero de ceros en los que termina el factorial"
   ]
  },
  {
   "cell_type": "code",
   "execution_count": null,
   "metadata": {
    "id": "-91xnpfrFf3S"
   },
   "outputs": [],
   "source": []
  },
  {
   "cell_type": "markdown",
   "metadata": {
    "id": "47xu0dynFw9R"
   },
   "source": [
    "7. (Pag 119) ¿Cuál es el mejor orden para recibir los datos de un polinomio?"
   ]
  },
  {
   "cell_type": "code",
   "execution_count": null,
   "metadata": {
    "id": "MzX3bSIxFxIa"
   },
   "outputs": [],
   "source": []
  },
  {
   "cell_type": "markdown",
   "metadata": {
    "id": "S599fJnrLlk7"
   },
   "source": [
    "8. (Pag 120) Los cuadrados abominables y cáncer"
   ]
  },
  {
   "cell_type": "code",
   "execution_count": null,
   "metadata": {
    "id": "Uvy08g4MLlxU"
   },
   "outputs": [],
   "source": []
  },
  {
   "cell_type": "markdown",
   "metadata": {
    "id": "kluLrKL7LphH"
   },
   "source": [
    "9. (Pag 122) Triángulos anidados"
   ]
  },
  {
   "cell_type": "code",
   "execution_count": null,
   "metadata": {
    "id": "9PisdmFlLprA"
   },
   "outputs": [],
   "source": []
  },
  {
   "cell_type": "markdown",
   "metadata": {
    "id": "1emFpwGjL6o9"
   },
   "source": [
    "10. (Pag 123) Cálculo puntual de la matriz de mediotono de Judice-Jarvis-Ninke"
   ]
  },
  {
   "cell_type": "code",
   "execution_count": null,
   "metadata": {
    "id": "O4FldweFcSAj"
   },
   "outputs": [],
   "source": []
  }
 ],
 "metadata": {
  "colab": {
   "collapsed_sections": [],
   "name": "A7_Funciones.ipynb",
   "provenance": []
  },
  "kernelspec": {
   "display_name": "Python 3",
   "language": "python",
   "name": "python3"
  },
  "language_info": {
   "codemirror_mode": {
    "name": "ipython",
    "version": 3
   },
   "file_extension": ".py",
   "mimetype": "text/x-python",
   "name": "python",
   "nbconvert_exporter": "python",
   "pygments_lexer": "ipython3",
   "version": "3.7.9"
  }
 },
 "nbformat": 4,
 "nbformat_minor": 1
}
