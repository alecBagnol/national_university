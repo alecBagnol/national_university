{
 "cells": [
  {
   "cell_type": "markdown",
   "metadata": {
    "id": "s4kpqkvomel8"
   },
   "source": [
    "## Problemas\n",
    "\n",
    "En la carpeta de los documentos se encuentra un libro en pdf (libro-completoProblemas.pdf [texto del enlace](https://drive.google.com/open?id=1os9N0GLelPG5C0O6-EENygVI2UIAFTcI)) con enunciados para problemas de programación. Por favor resuelva los siguientes problemas\n",
    "\n"
   ]
  },
  {
   "cell_type": "markdown",
   "metadata": {
    "id": "5XUIg0F9nG-B"
   },
   "source": [
    "1. Signo del producto (Problema 2-1, pag. 55)\n",
    "Dados dos números enteros n y m, indaga una forma de calcular el signo de su producto sin llegar a calcular dicho producto."
   ]
  },
  {
   "cell_type": "code",
   "execution_count": 1,
   "metadata": {
    "id": "LfVr3zF3nIkD"
   },
   "outputs": [
    {
     "name": "stdout",
     "output_type": "stream",
     "text": [
      "Signo del producto nxm\n",
      "n = -4\n",
      "m = 2\n",
      "El signo del producto es negatívo.\n"
     ]
    }
   ],
   "source": [
    "# Se pueden considerar 3 opciones, que el producto sea 0, que sea mayor a 0 o menor a 0\n",
    "# Teniendo en cuenta lo anterior puedo averiguarlo haciendo una comparacion\n",
    "print('Signo del producto nxm')\n",
    "n = int(input('n = '))\n",
    "m = int(input('m = '))\n",
    "if n < 0 or m < 0:\n",
    "    print('El signo del producto es negatívo.')\n",
    "elif not(n) and not(m):\n",
    "    print('El producto es 0.')\n",
    "else:\n",
    "    print('El signo del producto es positívo.')"
   ]
  },
  {
   "cell_type": "markdown",
   "metadata": {
    "id": "PV-1e46XnJkv"
   },
   "source": [
    "2. El escaso coste de la destrucción (Problema 2-3, pag. 55) (corregí el título según el título del problema 2-3)\n"
   ]
  },
  {
   "cell_type": "code",
   "execution_count": 1,
   "metadata": {
    "id": "CE1KiQl4nK5u"
   },
   "outputs": [
    {
     "name": "stdout",
     "output_type": "stream",
     "text": [
      "entrada 1: 123 nuclear\n",
      "entrada 2: 232 convencional\n",
      "entrada 3: 1200 quimico\n",
      "entrada 4: 242 nuclear\n",
      "entrada 5: 0\n",
      "-----------------------------\n",
      "El costo total es: 637320.0 Euros\n"
     ]
    }
   ],
   "source": [
    "# destruir 1km^2 de territorio enemigo en 1998 costo en euros\n",
    "# 1800 ---> explosivos convencionales\n",
    "# 600 ---> Con ingenio atómico\n",
    "# 0.6 ---> Con toxinas\n",
    "# Nos piden un programa para facilitar el cálculo del coste de la destrucción\n",
    "\n",
    "# La idea es tener un diccionario con las palabras clave y asignarles los valores \n",
    "# divido la entrada por espacio y si la entrada tiene un tamaño mayor a 1 entonces\n",
    "# es porque tiene datos para ser procesados, si es 1 o 0 termina e imprime el resultado\n",
    "entrada = 0\n",
    "seguir = True\n",
    "diccionario = {'convencional':1800,'nuclear':600,'quimico':0.6}\n",
    "resultado = 0\n",
    "while seguir:\n",
    "  entrada += 1\n",
    "  data = input(\"entrada {}: \".format(entrada)).split()\n",
    "  if len(data) > 1:\n",
    "    a, b = int(data[0]), diccionario[data[1]]\n",
    "    resultado += a*b\n",
    "  else:\n",
    "    print('''-----------------------------\n",
    "El costo total es: {} Euros'''.format(resultado))\n",
    "    seguir = False"
   ]
  },
  {
   "cell_type": "markdown",
   "metadata": {
    "id": "eJ0BCeIXnLed"
   },
   "source": [
    "3. Código de rotación (Problema 2-6, pag. 26)\n",
    "Cifrar y descifrar usando un código de rotación, la clave del codigo podrá elegirse."
   ]
  },
  {
   "cell_type": "code",
   "execution_count": 20,
   "metadata": {
    "id": "FOq4Nm_OnRWG"
   },
   "outputs": [
    {
     "name": "stdout",
     "output_type": "stream",
     "text": [
      "Ingrese el mensaje: New ZOOM code AchxxZde\n",
      "Ingrese clave de cifrado: 15\n",
      "Ctm ODDB rest PrwnnOst"
     ]
    }
   ],
   "source": [
    "# primero tener en cuenta que por la representacion unicode tenemos que a = 97 z = 122 y A = 65 Z = 90\n",
    "\n",
    "# En ese orden de ideas si resto el total del caracter del set de caracteres dado que sea mayuscula o\n",
    "# minuscula me da el valor de posicion del caracter y si ademas a eso le hago el modulo de 26 siendo\n",
    "# de 0 a 25 el total de caracteres entonces si se pasa de 26 la suma con su clave de cifrado o resta menor a 0 con \n",
    "# clave de descifrado me da la nueva posicion correspondiente del caracter.\n",
    "\n",
    "def decode_str(string,password):\n",
    "    for e in string:\n",
    "        char_num = ord(e)\n",
    "#         para las minusculas\n",
    "        if char_num >= 65 and char_num <= 90:\n",
    "            char_num -= (65 + password)\n",
    "            char_num %= 26\n",
    "            char_num += 65\n",
    "#         para mayusculas\n",
    "        elif char_num >= 97 and char_num <= 122:\n",
    "            char_num -= (97 + password)\n",
    "            char_num %= 25\n",
    "            char_num += 97\n",
    "        print(chr(char_num), end=\"\")\n",
    "        \n",
    "def encode_str(string,password):\n",
    "    for e in string:\n",
    "        char_num = ord(e)\n",
    "        if char_num >= 65 and char_num <= 90:\n",
    "            char_num += (password - 65)\n",
    "            char_num %= 26\n",
    "            char_num += 65\n",
    "        elif char_num >= 97 and char_num <= 122:\n",
    "            char_num += (password - 97)\n",
    "            char_num %= 25\n",
    "            char_num += 97\n",
    "        print(chr(char_num), end=\"\")\n",
    "\n",
    "# Inicio con la muestra de cifrado\n",
    "data = input(\"Ingrese el mensaje: \")\n",
    "pwd = int(input(\"Ingrese clave de cifrado: \"))\n",
    "encode_str(data,pwd)"
   ]
  },
  {
   "cell_type": "code",
   "execution_count": 21,
   "metadata": {},
   "outputs": [
    {
     "name": "stdout",
     "output_type": "stream",
     "text": [
      "Ingrese el mensaje: Ctm ODDB rest PrwnnOst\n",
      "Ingrese clave de cifrado: 15\n",
      "New ZOOM code AchxxZde"
     ]
    }
   ],
   "source": [
    "# ahora descifro de igual forma lo que acabé de cifrar \n",
    "data = input(\"Ingrese el mensaje: \")\n",
    "pwd = int(input(\"Ingrese clave de cifrado: \"))\n",
    "decode_str(data,pwd)"
   ]
  },
  {
   "cell_type": "markdown",
   "metadata": {
    "id": "FmikomytnUaC"
   },
   "source": [
    "4. Evaluación de polinomios (Problema 2-8, pag. 58)"
   ]
  },
  {
   "cell_type": "code",
   "execution_count": null,
   "metadata": {
    "id": "9A8gdC4_nXE1"
   },
   "outputs": [],
   "source": []
  },
  {
   "cell_type": "markdown",
   "metadata": {
    "id": "6uC9tapVnXtv"
   },
   "source": [
    "5. Interés cambiante (Problema 2-11, pag. 60)"
   ]
  },
  {
   "cell_type": "code",
   "execution_count": null,
   "metadata": {
    "id": "bm2tDnQSnZWb"
   },
   "outputs": [],
   "source": []
  },
  {
   "cell_type": "markdown",
   "metadata": {
    "id": "EstfLRgUnZy8"
   },
   "source": [
    "6. Espectro natural (Problema 2-14, pag.61)"
   ]
  },
  {
   "cell_type": "code",
   "execution_count": null,
   "metadata": {
    "colab": {
     "base_uri": "https://localhost:8080/",
     "height": 34
    },
    "executionInfo": {
     "elapsed": 776,
     "status": "ok",
     "timestamp": 1602619453718,
     "user": {
      "displayName": "francisco gomez",
      "photoUrl": "https://lh3.googleusercontent.com/a-/AOh14Gh1paMBTss7Qj4xEFsNAxZ3iXqx3aKAT34suasN2Q=s64",
      "userId": "02748555324622580505"
     },
     "user_tz": 300
    },
    "id": "1m-7zbijnbIe",
    "outputId": "504313ac-6afa-4330-9549-e5d11dbb4585"
   },
   "outputs": [
    {
     "name": "stdout",
     "output_type": "stream",
     "text": [
      "-0b10\n"
     ]
    }
   ],
   "source": []
  },
  {
   "cell_type": "markdown",
   "metadata": {
    "id": "9nfUG3qpnbko"
   },
   "source": [
    "7. Determine si un número es potencia de 2 utilizando operadores de manipulación de bits y comparación."
   ]
  },
  {
   "cell_type": "code",
   "execution_count": 10,
   "metadata": {
    "colab": {
     "base_uri": "https://localhost:8080/"
    },
    "executionInfo": {
     "elapsed": 744,
     "status": "ok",
     "timestamp": 1605415780153,
     "user": {
      "displayName": "Danny Alejandro Bañol Osorio",
      "photoUrl": "https://lh3.googleusercontent.com/a-/AOh14GiLUSf3Qe2BUCY8OHt-0zb_umcbNLQTlzzBRr_eTg=s64",
      "userId": "08985916289723345549"
     },
     "user_tz": 300
    },
    "id": "7DTLcSauncai",
    "outputId": "941c3274-146d-4902-d9a6-aedfee5d5f30"
   },
   "outputs": [
    {
     "data": {
      "text/plain": [
       "8"
      ]
     },
     "execution_count": 10,
     "metadata": {
      "tags": []
     },
     "output_type": "execute_result"
    }
   ],
   "source": [
    "(32 - 1) & 32\n",
    "# ~\n",
    "x = 10\n",
    "y = 3\n",
    "# while y != 0:\n",
    "#   b = ~x & y\n",
    "#   x = x ^ y\n",
    "#   y = b << 1\n",
    "#   print(x,y,b)\n",
    "x & (~y)"
   ]
  },
  {
   "cell_type": "markdown",
   "metadata": {
    "id": "xmtDXtFOkWUU"
   },
   "source": [
    "8. Detecte si dos enteros tienen signos opuestos"
   ]
  },
  {
   "cell_type": "code",
   "execution_count": null,
   "metadata": {
    "id": "9Zqfpw8rkWnE"
   },
   "outputs": [],
   "source": []
  },
  {
   "cell_type": "markdown",
   "metadata": {
    "id": "yGYMSfCukexv"
   },
   "source": [
    "9. Dado un número y dos posiciones en representación binaria, intercambie los $n$ bits entre las dos posiciones."
   ]
  },
  {
   "cell_type": "code",
   "execution_count": null,
   "metadata": {
    "id": "PaSCzlGgkfMT"
   },
   "outputs": [],
   "source": []
  },
  {
   "cell_type": "markdown",
   "metadata": {
    "id": "wc0P3cMpksnE"
   },
   "source": [
    "10. Multiplique un número dado por 3.5."
   ]
  },
  {
   "cell_type": "code",
   "execution_count": null,
   "metadata": {
    "id": "JsleQVF9ks5B"
   },
   "outputs": [],
   "source": []
  },
  {
   "cell_type": "markdown",
   "metadata": {
    "id": "ISs_VMEtGPQb"
   },
   "source": [
    "11. Dado un número que tiene una sola posicion en 1 y las otras en 0 en representación binaria, encuentre la posición del bit fijado en 1."
   ]
  },
  {
   "cell_type": "code",
   "execution_count": null,
   "metadata": {
    "id": "92aoKtFxGPk6"
   },
   "outputs": [],
   "source": []
  },
  {
   "cell_type": "markdown",
   "metadata": {
    "id": "EcMmPctMGX1a"
   },
   "source": [
    "12. Escriba un programa que calcule el menor entre tres enteros sin utilizar operaciones de comparación."
   ]
  },
  {
   "cell_type": "code",
   "execution_count": null,
   "metadata": {
    "id": "aAU8rSmcGYCw"
   },
   "outputs": [],
   "source": []
  },
  {
   "cell_type": "code",
   "execution_count": 3,
   "metadata": {
    "colab": {
     "base_uri": "https://localhost:8080/"
    },
    "executionInfo": {
     "elapsed": 557,
     "status": "ok",
     "timestamp": 1605371576673,
     "user": {
      "displayName": "Danny Alejandro Bañol Osorio",
      "photoUrl": "https://lh3.googleusercontent.com/a-/AOh14GiLUSf3Qe2BUCY8OHt-0zb_umcbNLQTlzzBRr_eTg=s64",
      "userId": "08985916289723345549"
     },
     "user_tz": 300
    },
    "id": "Imw8eF2ajx1b",
    "outputId": "2c107eab-29c0-48b5-f2c3-918d8a4b06cf"
   },
   "outputs": [
    {
     "data": {
      "text/plain": [
       "41"
      ]
     },
     "execution_count": 3,
     "metadata": {
      "tags": []
     },
     "output_type": "execute_result"
    }
   ],
   "source": [
    "53 ^ 28"
   ]
  }
 ],
 "metadata": {
  "colab": {
   "collapsed_sections": [],
   "name": "A4_Operadores_binarios.ipynb",
   "provenance": [
    {
     "file_id": "19nJaflh_jdMCAN2tNUvuYKcmUOghjxZj",
     "timestamp": 1587494646391
    },
    {
     "file_id": "1IzAAB9NREyqlrCrGsA_mxlEOfk9WnWHG",
     "timestamp": 1585942314712
    }
   ]
  },
  "kernelspec": {
   "display_name": "Python 3",
   "language": "python",
   "name": "python3"
  },
  "language_info": {
   "codemirror_mode": {
    "name": "ipython",
    "version": 3
   },
   "file_extension": ".py",
   "mimetype": "text/x-python",
   "name": "python",
   "nbconvert_exporter": "python",
   "pygments_lexer": "ipython3",
   "version": "3.7.6"
  }
 },
 "nbformat": 4,
 "nbformat_minor": 1
}
