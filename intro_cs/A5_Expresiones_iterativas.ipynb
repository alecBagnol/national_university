{
 "cells": [
  {
   "cell_type": "markdown",
   "metadata": {
    "id": "3oxedQvB1c5p"
   },
   "source": [
    "[texto del enlace](https://)<table>\n",
    " <tr align=left><td><img align=left src=\"https://drive.google.com/uc?export=view&id=1edefIUL_iwWk4K3KtrNynSJ0Qvpdb2YY\">\n",
    " <td>Text provided under a Creative Commons Attribution license, CC-BY. All code is made available under the FSF-approved MIT license. (c) Francisco Gómez</td>\n",
    "</table>"
   ]
  },
  {
   "cell_type": "markdown",
   "metadata": {
    "id": "Xq_hs1jGRtLR"
   },
   "source": [
    "*“The original Ethernet consisted of a fat cable into which a wire coming from each computer was forcibly inserted using what was euphemistically referred to a vampire tap.”*\n",
    "\n",
    "__Andrew Tanenbaum__"
   ]
  },
  {
   "cell_type": "markdown",
   "metadata": {
    "id": "zYW3ZR0NSLk7"
   },
   "source": [
    "## Problemas"
   ]
  },
  {
   "cell_type": "markdown",
   "metadata": {
    "id": "Lw7Zrm0lJ52N"
   },
   "source": [
    "1. Escriba un programa que adivine números entre 1 y 9"
   ]
  },
  {
   "cell_type": "code",
   "execution_count": 3,
   "metadata": {
    "id": "RUcWXtUQJ9E0"
   },
   "outputs": [
    {
     "name": "stdout",
     "output_type": "stream",
     "text": [
      "Piensa en un número del 1 al 9...\n",
      "    Su número es el 2?. (y / n) ... : n\n",
      "        Es menor o mayor ?... mayor\n",
      "    Su número es el 9?. (y / n) ... : n\n",
      "        Es menor o mayor ?... menor\n",
      "    Su número es el 6?. (y / n) ... : n\n",
      "        Es menor o mayor ?... menor\n",
      "    Su número es el 4?. (y / n) ... : n\n",
      "        Es menor o mayor ?... menor\n",
      "    Su número es el 3?. (y / n) ... : y\n",
      "            Bien!!, número 3 adivinado entonces..\n"
     ]
    }
   ],
   "source": [
    "import random\n",
    "print(\"Piensa en un número del 1 al 9...\")\n",
    "# el programa va a seleccionar un número de forma aleatoria de 1 a 9\n",
    "guess = random.randint(1,9)\n",
    "# el itsnot seria como un flag\n",
    "itsnot = True\n",
    "# de resto son las asignaciones de los numeros mayor y menor\n",
    "mayor = 9\n",
    "menor = 1\n",
    "\n",
    "# entra en un ciclo que sale haste que encuentra en numero\n",
    "while itsnot:\n",
    "#     pido orientacion del usuario para determinar si el numero aleatorio fue el correcto o si lo es en alguno de los intentos\n",
    "    validate = input(\"    Su número es el {}?. (y / n) ... : \".format(guess))\n",
    "    if validate == \"n\":\n",
    "        reason = input(\"        Es menor o mayor ?... \")\n",
    "#         entonces... si es menor hago ese numero adivinado el mayor menos 1 para determinar el siguiente rango en el random..\n",
    "#         si es mayor  por el contrario hago ese numero el menor mas uno y lo evaluo en ese rango...\n",
    "        if reason == \"menor\":\n",
    "            mayor = guess - 1\n",
    "            guess = random.randint(menor, mayor)\n",
    "        else :\n",
    "            menor = guess + 1\n",
    "            guess = random.randint(menor, mayor)\n",
    "    else:\n",
    "        print(\"            Bien!!, número {} adivinado entonces..\".format(guess))\n",
    "        itsnot = False\n",
    "    "
   ]
  },
  {
   "cell_type": "markdown",
   "metadata": {
    "id": "B72fnfAPFZNz"
   },
   "source": [
    "2. Calcular un número elevado a otro número utilizando el método de multiplicaciones sucesivas"
   ]
  },
  {
   "cell_type": "markdown",
   "metadata": {},
   "source": [
    "$$ x^{n} $$"
   ]
  },
  {
   "cell_type": "code",
   "execution_count": 6,
   "metadata": {
    "id": "JiCFfhv2FZWL"
   },
   "outputs": [
    {
     "name": "stdout",
     "output_type": "stream",
     "text": [
      "Digíte un entéro para x: 2\n",
      "Digíte un entéro para n: 5\n",
      "Resultado = 32\n"
     ]
    }
   ],
   "source": [
    "# pido al usuario los valores de x y n\n",
    "x = int(input(\"Digíte un entéro para x: \"))\n",
    "n = int(input(\"Digíte un entéro para n: \"))\n",
    "res = 1\n",
    "# seguido inicialicé la variable res como resultado e hice un for en el rango de n para hacer las veces de la multiplicacion sucesiva\n",
    "for k in range(n):\n",
    "    res *= x\n",
    "print(\"Resultado = {}\".format(res))"
   ]
  },
  {
   "cell_type": "markdown",
   "metadata": {
    "id": "FP5SChrPE1qp"
   },
   "source": [
    "3. Encuentre los números que son divisibles por 7 y múltiplos de 5, entre 3500 y 4700"
   ]
  },
  {
   "cell_type": "code",
   "execution_count": 23,
   "metadata": {
    "id": "HXJhejw4FLsy"
   },
   "outputs": [
    {
     "name": "stdout",
     "output_type": "stream",
     "text": [
      "3500, 3535, 3570, 3605, 3640, 3675, 3710, 3745, 3780, 3815, 3850, 3885, 3920, 3955, 3990, 4025, 4060, 4095, 4130, 4165, 4200, 4235, 4270, 4305, 4340, 4375, 4410, 4445, 4480, 4515, 4550, 4585, 4620, 4655, 4690, "
     ]
    }
   ],
   "source": [
    "a = 3500\n",
    "b = 4700\n",
    "x = 1\n",
    "# hago un rengo entre los dos numeros con saltos de 7 en 7 para menos iteraciones y luego saco el modulo del numero para\n",
    "# verificar que el anterior sea multiplo de 5\n",
    "for i in range(a,b+1,7):\n",
    "    if not i%5:\n",
    "        print(i, end=\", \")"
   ]
  },
  {
   "cell_type": "markdown",
   "metadata": {
    "id": "OKKbv1BKFMex"
   },
   "source": [
    "4. Escriba un programa que obtenga los valores de la serie de Fibonacci entre 100 y 200"
   ]
  },
  {
   "cell_type": "code",
   "execution_count": 41,
   "metadata": {
    "id": "1f_EIYa9FMp2"
   },
   "outputs": [
    {
     "name": "stdout",
     "output_type": "stream",
     "text": [
      "Números de Fibonacci de 100 a 200\n",
      "354224848179261915075 573147844013817084101 927372692193078999176 1500520536206896083277 2427893228399975082453 3928413764606871165730 6356306993006846248183 10284720757613717413913 16641027750620563662096 26925748508234281076009 43566776258854844738105 70492524767089125814114 114059301025943970552219 184551825793033096366333 298611126818977066918552 483162952612010163284885 781774079430987230203437 1264937032042997393488322 2046711111473984623691759 3311648143516982017180081 5358359254990966640871840 8670007398507948658051921 14028366653498915298923761 22698374052006863956975682 36726740705505779255899443 59425114757512643212875125 96151855463018422468774568 155576970220531065681649693 251728825683549488150424261 407305795904080553832073954 659034621587630041982498215 1066340417491710595814572169 1725375039079340637797070384 2791715456571051233611642553 4517090495650391871408712937 7308805952221443105020355490 11825896447871834976429068427 19134702400093278081449423917 30960598847965113057878492344 50095301248058391139327916261 81055900096023504197206408605 131151201344081895336534324866 212207101440105399533740733471 343358302784187294870275058337 555565404224292694404015791808 898923707008479989274290850145 1454489111232772683678306641953 2353412818241252672952597492098 3807901929474025356630904134051 6161314747715278029583501626149 9969216677189303386214405760200 16130531424904581415797907386349 26099748102093884802012313146549 42230279526998466217810220532898 68330027629092351019822533679447 110560307156090817237632754212345 178890334785183168257455287891792 289450641941273985495088042104137 468340976726457153752543329995929 757791618667731139247631372100066 1226132595394188293000174702095995 1983924214061919432247806074196061 3210056809456107725247980776292056 5193981023518027157495786850488117 8404037832974134882743767626780173 13598018856492162040239554477268290 22002056689466296922983322104048463 35600075545958458963222876581316753 57602132235424755886206198685365216 93202207781383214849429075266681969 150804340016807970735635273952047185 244006547798191185585064349218729154 394810887814999156320699623170776339 638817435613190341905763972389505493 1033628323428189498226463595560281832 1672445759041379840132227567949787325 2706074082469569338358691163510069157 4378519841510949178490918731459856482 7084593923980518516849609894969925639 11463113765491467695340528626429782121 18547707689471986212190138521399707760 30010821454963453907530667147829489881 48558529144435440119720805669229197641 78569350599398894027251472817058687522 127127879743834334146972278486287885163 205697230343233228174223751303346572685 332825110087067562321196029789634457848 538522340430300790495419781092981030533 871347450517368352816615810882615488381 1409869790947669143312035591975596518914 2281217241465037496128651402858212007295 3691087032412706639440686994833808526209 5972304273877744135569338397692020533504 9663391306290450775010025392525829059713 15635695580168194910579363790217849593217 25299086886458645685589389182743678652930 40934782466626840596168752972961528246147 66233869353085486281758142155705206899077 107168651819712326877926895128666735145224 173402521172797813159685037284371942044301 280571172992510140037611932413038677189525 \n",
      "\n",
      "\n"
     ]
    }
   ],
   "source": [
    "# ahora, si son los numeros de la serie entre las posiciones 100 y 200 entonces seria:\n",
    "print(\"Números de Fibonacci de 100 a 200\")\n",
    "n = 0\n",
    "fib_a = 0\n",
    "fib_b = 1\n",
    "while n <= 200:\n",
    "    fib_b = fib_a + fib_b\n",
    "    fib_a = fib_b - fib_a\n",
    "    if n >= 99 and n < 200:\n",
    "        print(fib_a, end=\" \")\n",
    "    n += 1\n",
    "print(\"\\n\\n\")\n",
    "# el siguiente es para los numeros de la secuencia Fibonacci entre 100 y 200\n",
    "# print(\"Números de la serie Fibonacci entre 100 y 200\")\n",
    "# nmes = 7\n",
    "# fib_a = 0\n",
    "# fib_b = 1\n",
    "# while fib_a <= 200:\n",
    "#     fib_b = fib_a + fib_b\n",
    "#     fib_a = fib_b - fib_a\n",
    "#     if fib_a >= 95 and fib_a <=200:\n",
    "#         print(fib_a, end=\" \")\n",
    "\n",
    "\n",
    "\n",
    "    "
   ]
  },
  {
   "cell_type": "markdown",
   "metadata": {
    "id": "PgqWFNG5MH_S"
   },
   "source": [
    "5. Calcule la secuencia de Padovan (1, 1, 1, 2, 2, 3, 4, 5, 7, 9, 12, 16...) para un n arbitrario"
   ]
  },
  {
   "cell_type": "markdown",
   "metadata": {},
   "source": [
    "$P \\left ( 0 \\right ) = P \\left ( 1 \\right ) = P \\left ( 2 \\right ) = 1$"
   ]
  },
  {
   "cell_type": "markdown",
   "metadata": {},
   "source": [
    "$P \\left ( n \\right ) = P \\left ( n - 2 \\right ) + P \\left ( n - 3 \\right )   $"
   ]
  },
  {
   "cell_type": "code",
   "execution_count": 57,
   "metadata": {
    "id": "CUESPjKTMIJS"
   },
   "outputs": [
    {
     "name": "stdout",
     "output_type": "stream",
     "text": [
      "Secuencia de Padovan...\n",
      "Ingrese el número n para inicial la secuencia: 15\n",
      "1 1 1 2 2 3 4 5 7 9 12 16 21 28 37 "
     ]
    }
   ],
   "source": [
    "print(\"Secuencia de Padovan...\")\n",
    "# pido el número n:\n",
    "n = int(input(\"Ingrese el número n para inicial la secuencia: \"))\n",
    "\n",
    "# la idea es como hacer una treza con los números... esto cuando n sea >= 3, antes los numeros de la secuencia son 1\n",
    "num_a = 1\n",
    "num_b = 1\n",
    "num_c = 1\n",
    "for num in range(n):\n",
    "#     en el rango, cuando los números son menores a 3 entonces se imprimen 1\n",
    "    if num < 3:\n",
    "        print(1, end=\" \")\n",
    "    else:\n",
    "#         por el otros lado se evalúa en el modulo de 3 dado que el número se va a ir intercalando cada 3 posiciones\n",
    "        x = num % 3\n",
    "        if x == 0:\n",
    "#             para la primera posicion cuando sean multiplos de 3 entonces asigna la suma de las 2 primeras posiciones\n",
    "#             si se evalua es como que estos numeros en realidad a seria el ultimo y por ende voy a asignarle la suma porque\n",
    "#             no va a tener asignacion en el proximo paso\n",
    "            num_a += num_b\n",
    "            print(num_a, end=\" \")\n",
    "        elif x == 1:\n",
    "#             en residuo 1 lo hace con la segunda y tercera asignacion\n",
    "            num_b += num_c\n",
    "            print(num_b, end=\" \")\n",
    "        else:\n",
    "#             en el residuo igual a 2 le sumo la primera posicion a la tercera... por eso decia que parece una trenza... jeje\n",
    "            num_c += num_a\n",
    "            print(num_c, end=\" \")\n",
    "        "
   ]
  },
  {
   "cell_type": "markdown",
   "metadata": {
    "id": "w6aG4ekFFfv8"
   },
   "source": [
    "6. Determine si un número es primo o no"
   ]
  },
  {
   "cell_type": "code",
   "execution_count": 27,
   "metadata": {
    "id": "-91xnpfrFf3S"
   },
   "outputs": [
    {
     "name": "stdout",
     "output_type": "stream",
     "text": [
      "Ingrese un número para verificar si es o no primo: 31\n",
      "31\n",
      "Es primo\n"
     ]
    }
   ],
   "source": [
    "# entonces tenemos un número n\n",
    "n = int(input(\"Ingrese un número para verificar si es o no primo: \"))\n",
    "\n",
    "# es primo hasta que se compruebe lo contrario\n",
    "val = True\n",
    "\n",
    "# como el 1 es primero y todos los numeros van con el entonces obvio el 1 y continuo a evaluar desde el 2\n",
    "for i in range(2,n):\n",
    "#     para el rango de 2 hasta el número n evaluo el modulo del numero si coincide con el numero del rango\n",
    "#     si coincide no es primo\n",
    "    if n % i == 0:\n",
    "        val = False\n",
    "if val:\n",
    "    print(n)\n",
    "    print(\"Es primo\")\n",
    "else:\n",
    "    print(n)\n",
    "    print(\"No es primo\")"
   ]
  },
  {
   "cell_type": "markdown",
   "metadata": {
    "id": "47xu0dynFw9R"
   },
   "source": [
    "7. Determine si un número es compuesto o no"
   ]
  },
  {
   "cell_type": "code",
   "execution_count": null,
   "metadata": {
    "id": "MzX3bSIxFxIa"
   },
   "outputs": [],
   "source": []
  },
  {
   "cell_type": "markdown",
   "metadata": {
    "id": "S599fJnrLlk7"
   },
   "source": [
    "8. Aproxime pi utilizando los 100 primeros términos de la serie de Ramanujan–Sato"
   ]
  },
  {
   "cell_type": "code",
   "execution_count": null,
   "metadata": {
    "id": "Uvy08g4MLlxU"
   },
   "outputs": [],
   "source": []
  },
  {
   "cell_type": "markdown",
   "metadata": {
    "id": "kluLrKL7LphH"
   },
   "source": [
    "9. Determine si un número es narcisista"
   ]
  },
  {
   "cell_type": "code",
   "execution_count": null,
   "metadata": {
    "id": "9PisdmFlLprA"
   },
   "outputs": [],
   "source": []
  },
  {
   "cell_type": "markdown",
   "metadata": {
    "id": "1emFpwGjL6o9"
   },
   "source": [
    "10. Determine si un número es primo fuerte "
   ]
  },
  {
   "cell_type": "code",
   "execution_count": null,
   "metadata": {
    "id": "O4FldweFcSAj"
   },
   "outputs": [],
   "source": []
  },
  {
   "cell_type": "markdown",
   "metadata": {
    "id": "GjFkz87icRKv"
   },
   "source": [
    "11. Determine si un número es perfecto o no "
   ]
  },
  {
   "cell_type": "code",
   "execution_count": null,
   "metadata": {
    "id": "ycutVAZZL6wL"
   },
   "outputs": [],
   "source": []
  },
  {
   "cell_type": "markdown",
   "metadata": {
    "id": "gbgnZsxccVJc"
   },
   "source": [
    "12. Determine si un número es semiperfecto"
   ]
  },
  {
   "cell_type": "code",
   "execution_count": null,
   "metadata": {
    "id": "lEOuUIJNcVUE"
   },
   "outputs": [],
   "source": []
  },
  {
   "cell_type": "markdown",
   "metadata": {
    "id": "AxQWaXKjcYGm"
   },
   "source": [
    "13. Determine si un número es abundante"
   ]
  },
  {
   "cell_type": "code",
   "execution_count": null,
   "metadata": {
    "id": "P0QvK-JrcYPl"
   },
   "outputs": [],
   "source": []
  },
  {
   "cell_type": "markdown",
   "metadata": {
    "id": "CUX_zeJKcand"
   },
   "source": [
    "14. Calcule el n-esimo término de la secuencia de Ulam"
   ]
  },
  {
   "cell_type": "code",
   "execution_count": null,
   "metadata": {
    "id": "aC8aejmlcaym"
   },
   "outputs": [],
   "source": []
  },
  {
   "cell_type": "markdown",
   "metadata": {
    "id": "FN4kJotHcdX0"
   },
   "source": [
    "15. Calcule el doble factorial de un número"
   ]
  },
  {
   "cell_type": "code",
   "execution_count": null,
   "metadata": {
    "id": "loTsOI4CcdiU"
   },
   "outputs": [],
   "source": []
  },
  {
   "cell_type": "markdown",
   "metadata": {
    "id": "zXCcY8eAcf1r"
   },
   "source": [
    "16. Calcule el subfactorial de un número"
   ]
  },
  {
   "cell_type": "code",
   "execution_count": null,
   "metadata": {
    "id": "Nwmr27ZscgAG"
   },
   "outputs": [],
   "source": []
  },
  {
   "cell_type": "markdown",
   "metadata": {
    "id": "XSvu3IFocio3"
   },
   "source": [
    "17. Calcule los 6 primeros números de Dedekin"
   ]
  },
  {
   "cell_type": "markdown",
   "metadata": {
    "id": "dr93hm63ciyb"
   },
   "source": [
    "$M(n) = \\sum_{k=1}^{2^{2^{n}}} \\prod_{j=1}^{2^{n}-1} \\prod_{i=0}^{j-1} \\left ( 1 - b_{i}^{k} b_{j}^{k} \\prod_{m=0}^{\\log_2 i} (1-b_{m}^{i} + b_{m}^{i} b_{m}^{j}) \\right )$"
   ]
  },
  {
   "cell_type": "markdown",
   "metadata": {},
   "source": [
    "$ b_{i}^{k} = \\left \\lfloor \\frac{k}{2^{i}} \\right \\rfloor - 2 \\left \\lfloor \\frac{k}{2^{i + 1}} \\right \\rfloor$"
   ]
  },
  {
   "cell_type": "code",
   "execution_count": null,
   "metadata": {},
   "outputs": [
    {
     "name": "stdout",
     "output_type": "stream",
     "text": [
      "M(0) = 2\n",
      "M(1) = 3\n",
      "M(2) = 6\n",
      "M(3) = 20\n",
      "M(4) = 168\n"
     ]
    }
   ],
   "source": [
    "import math\n",
    "# la siguiente funcion define los valores de bik con las funciones de piso\n",
    "def bik_floor(e,f):\n",
    "#   e = k, f = i... en el inicial\n",
    "    x = math.floor(e/(2**f)) - (2 * math.floor(e/(2**(f + 1))))\n",
    "    return x\n",
    "# aqui empieza el desarrollo de los ciclos para el intervalo de los numeros de 0 a 5\n",
    "for n in range(6):\n",
    "    sumn = 2**(2**n)\n",
    "    res_dedekind = 0\n",
    "#     desde aqui el desarrollo de la sumatoria de k=1 a 2^(2^n)\n",
    "    for k in range(1, sumn+1):\n",
    "        prodj = (2**n) - 1\n",
    "        res_prodj = 1\n",
    "#         aqui empieza el desarrollo de la productoria de j=0 a 2n-1\n",
    "        for j in range(1, prodj+1):\n",
    "            prodi = j-1\n",
    "            res_prodi = 1\n",
    "#             aqui empieza el desarrollo de la productoria de i=0 a j-1\n",
    "            for i in range(0, prodi+1):\n",
    "                logi = 0\n",
    "#                 hice una comparacion para evitar el error de log2 de 0\n",
    "                if i != 0:\n",
    "                    logi = int(math.log(i,2))\n",
    "                res_prod_log = 1\n",
    "#               aqui desarrollo la productoria de m = 0 a log2 de i\n",
    "                for m in range(0,logi+1):\n",
    "                    bmi = bik_floor(i,m)\n",
    "                    bmj = bik_floor(j,m)\n",
    "                    prod_m_log = 1 - bmi + (bmi * bmj)\n",
    "                    res_prod_log *= prod_m_log\n",
    "                bik = bik_floor(k,i)\n",
    "                bjk = bik_floor(k,j)\n",
    "                prod_i = 1 - bik * bjk * res_prod_log\n",
    "                res_prodi *= prod_i\n",
    "            res_prodj *= res_prodi\n",
    "        res_dedekind += res_prodj\n",
    "    print(\"M({}) = {}\".format(n,res_dedekind))\n"
   ]
  },
  {
   "cell_type": "code",
   "execution_count": null,
   "metadata": {},
   "outputs": [],
   "source": []
  }
 ],
 "metadata": {
  "colab": {
   "collapsed_sections": [],
   "name": "04_IterativeExpressions.ipynb",
   "provenance": []
  },
  "kernelspec": {
   "display_name": "Python 3",
   "language": "python",
   "name": "python3"
  },
  "language_info": {
   "codemirror_mode": {
    "name": "ipython",
    "version": 3
   },
   "file_extension": ".py",
   "mimetype": "text/x-python",
   "name": "python",
   "nbconvert_exporter": "python",
   "pygments_lexer": "ipython3",
   "version": "3.7.6"
  }
 },
 "nbformat": 4,
 "nbformat_minor": 1
}
