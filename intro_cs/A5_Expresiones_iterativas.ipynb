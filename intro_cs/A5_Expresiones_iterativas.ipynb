{
 "cells": [
  {
   "cell_type": "markdown",
   "metadata": {
    "id": "3oxedQvB1c5p"
   },
   "source": [
    "[texto del enlace](https://)<table>\n",
    " <tr align=left><td><img align=left src=\"https://drive.google.com/uc?export=view&id=1edefIUL_iwWk4K3KtrNynSJ0Qvpdb2YY\">\n",
    " <td>Text provided under a Creative Commons Attribution license, CC-BY. All code is made available under the FSF-approved MIT license. (c) Francisco Gómez</td>\n",
    "</table>"
   ]
  },
  {
   "cell_type": "markdown",
   "metadata": {
    "id": "Xq_hs1jGRtLR"
   },
   "source": [
    "*“The original Ethernet consisted of a fat cable into which a wire coming from each computer was forcibly inserted using what was euphemistically referred to a vampire tap.”*\n",
    "\n",
    "__Andrew Tanenbaum__"
   ]
  },
  {
   "cell_type": "markdown",
   "metadata": {
    "id": "zYW3ZR0NSLk7"
   },
   "source": [
    "## Problemas"
   ]
  },
  {
   "cell_type": "markdown",
   "metadata": {
    "id": "Lw7Zrm0lJ52N"
   },
   "source": [
    "1. Escriba un programa que adivine números entre 1 y 9"
   ]
  },
  {
   "cell_type": "code",
   "execution_count": null,
   "metadata": {
    "id": "RUcWXtUQJ9E0"
   },
   "outputs": [],
   "source": []
  },
  {
   "cell_type": "markdown",
   "metadata": {
    "id": "B72fnfAPFZNz"
   },
   "source": [
    "2. Calcular un número elevado a otro número utilizando el método de multiplicaciones sucesivas"
   ]
  },
  {
   "cell_type": "code",
   "execution_count": null,
   "metadata": {
    "id": "JiCFfhv2FZWL"
   },
   "outputs": [],
   "source": []
  },
  {
   "cell_type": "markdown",
   "metadata": {
    "id": "FP5SChrPE1qp"
   },
   "source": [
    "3. Encuentre los números que son divisibles por 7 y múltiplos de 5, entre 3500 y 4700"
   ]
  },
  {
   "cell_type": "code",
   "execution_count": null,
   "metadata": {
    "id": "HXJhejw4FLsy"
   },
   "outputs": [],
   "source": []
  },
  {
   "cell_type": "markdown",
   "metadata": {
    "id": "OKKbv1BKFMex"
   },
   "source": [
    "4. Escriba un programa que obtenga los valores de la serie de Fibonacci entre 100 y 200"
   ]
  },
  {
   "cell_type": "code",
   "execution_count": null,
   "metadata": {
    "id": "1f_EIYa9FMp2"
   },
   "outputs": [],
   "source": []
  },
  {
   "cell_type": "markdown",
   "metadata": {
    "id": "PgqWFNG5MH_S"
   },
   "source": [
    "5. Calcule la secuencia de Padovan (1, 1, 1, 2, 2, 3, 4, 5, 7, 9, 12, 16...) para un n arbitrario"
   ]
  },
  {
   "cell_type": "code",
   "execution_count": null,
   "metadata": {
    "id": "CUESPjKTMIJS"
   },
   "outputs": [],
   "source": []
  },
  {
   "cell_type": "markdown",
   "metadata": {
    "id": "w6aG4ekFFfv8"
   },
   "source": [
    "6. Determine si un número es primo o no"
   ]
  },
  {
   "cell_type": "code",
   "execution_count": null,
   "metadata": {
    "id": "-91xnpfrFf3S"
   },
   "outputs": [],
   "source": []
  },
  {
   "cell_type": "markdown",
   "metadata": {
    "id": "47xu0dynFw9R"
   },
   "source": [
    "7. Determine si un número es compuesto o no"
   ]
  },
  {
   "cell_type": "code",
   "execution_count": null,
   "metadata": {
    "id": "MzX3bSIxFxIa"
   },
   "outputs": [],
   "source": []
  },
  {
   "cell_type": "markdown",
   "metadata": {
    "id": "S599fJnrLlk7"
   },
   "source": [
    "8. Aproxime pi utilizando los 100 primeros términos de la serie de Ramanujan–Sato"
   ]
  },
  {
   "cell_type": "code",
   "execution_count": null,
   "metadata": {
    "id": "Uvy08g4MLlxU"
   },
   "outputs": [],
   "source": []
  },
  {
   "cell_type": "markdown",
   "metadata": {
    "id": "kluLrKL7LphH"
   },
   "source": [
    "9. Determine si un número es narcisista"
   ]
  },
  {
   "cell_type": "code",
   "execution_count": null,
   "metadata": {
    "id": "9PisdmFlLprA"
   },
   "outputs": [],
   "source": []
  },
  {
   "cell_type": "markdown",
   "metadata": {
    "id": "1emFpwGjL6o9"
   },
   "source": [
    "10. Determine si un número es primo fuerte "
   ]
  },
  {
   "cell_type": "code",
   "execution_count": null,
   "metadata": {
    "id": "O4FldweFcSAj"
   },
   "outputs": [],
   "source": []
  },
  {
   "cell_type": "markdown",
   "metadata": {
    "id": "GjFkz87icRKv"
   },
   "source": [
    "11. Determine si un número es perfecto o no "
   ]
  },
  {
   "cell_type": "code",
   "execution_count": null,
   "metadata": {
    "id": "ycutVAZZL6wL"
   },
   "outputs": [],
   "source": []
  },
  {
   "cell_type": "markdown",
   "metadata": {
    "id": "gbgnZsxccVJc"
   },
   "source": [
    "12. Determine si un número es semiperfecto"
   ]
  },
  {
   "cell_type": "code",
   "execution_count": null,
   "metadata": {
    "id": "lEOuUIJNcVUE"
   },
   "outputs": [],
   "source": []
  },
  {
   "cell_type": "markdown",
   "metadata": {
    "id": "AxQWaXKjcYGm"
   },
   "source": [
    "13. Determine si un número es abundante"
   ]
  },
  {
   "cell_type": "code",
   "execution_count": null,
   "metadata": {
    "id": "P0QvK-JrcYPl"
   },
   "outputs": [],
   "source": []
  },
  {
   "cell_type": "markdown",
   "metadata": {
    "id": "CUX_zeJKcand"
   },
   "source": [
    "14. Calcule el n-esimo término de la secuencia de Ulam"
   ]
  },
  {
   "cell_type": "code",
   "execution_count": null,
   "metadata": {
    "id": "aC8aejmlcaym"
   },
   "outputs": [],
   "source": []
  },
  {
   "cell_type": "markdown",
   "metadata": {
    "id": "FN4kJotHcdX0"
   },
   "source": [
    "15. Calcule el doble factorial de un número"
   ]
  },
  {
   "cell_type": "code",
   "execution_count": null,
   "metadata": {
    "id": "loTsOI4CcdiU"
   },
   "outputs": [],
   "source": []
  },
  {
   "cell_type": "markdown",
   "metadata": {
    "id": "zXCcY8eAcf1r"
   },
   "source": [
    "16. Calcule el subfactorial de un número"
   ]
  },
  {
   "cell_type": "code",
   "execution_count": null,
   "metadata": {
    "id": "Nwmr27ZscgAG"
   },
   "outputs": [],
   "source": []
  },
  {
   "cell_type": "markdown",
   "metadata": {
    "id": "XSvu3IFocio3"
   },
   "source": [
    "17. Calcule los 6 primeros números de Dedekin"
   ]
  },
  {
   "cell_type": "markdown",
   "metadata": {
    "id": "dr93hm63ciyb"
   },
   "source": [
    "$M(n) = \\sum_{k=1}^{2^{2^{n}}} \\prod_{j=1}^{2^{n}-1} \\prod_{i=0}^{j-1} \\left ( 1 - b_{i}^{k} b_{j}^{k} \\prod_{m=0}^{\\log_2 i} (1-b_{m}^{i} + b_{m}^{i} b_{m}^{j}) \\right )$"
   ]
  },
  {
   "cell_type": "markdown",
   "metadata": {},
   "source": [
    "$ b_{i}^{k} = \\left \\lfloor \\frac{k}{2^{i}} \\right \\rfloor - 2 \\left \\lfloor \\frac{k}{2^{i + 1}} \\right \\rfloor$"
   ]
  },
  {
   "cell_type": "code",
   "execution_count": null,
   "metadata": {},
   "outputs": [
    {
     "name": "stdout",
     "output_type": "stream",
     "text": [
      "M(0) = 2\n",
      "M(1) = 3\n",
      "M(2) = 6\n",
      "M(3) = 20\n",
      "M(4) = 168\n"
     ]
    }
   ],
   "source": [
    "import math\n",
    "# la siguiente funcion define los valores de bik con las funciones de piso\n",
    "def bik_floor(e,f):\n",
    "#   e = k, f = i... en el inicial\n",
    "    x = math.floor(e/(2**f)) - (2 * math.floor(e/(2**(f + 1))))\n",
    "    return x\n",
    "# aqui empieza el desarrollo de los ciclos para el intervalo de los numeros de 0 a 5\n",
    "for n in range(6):\n",
    "    sumn = 2**(2**n)\n",
    "    res_dedekind = 0\n",
    "#     desde aqui el desarrollo de la sumatoria de k=1 a 2^(2^n)\n",
    "    for k in range(1, sumn+1):\n",
    "        prodj = (2**n) - 1\n",
    "        res_prodj = 1\n",
    "#         aqui empieza el desarrollo de la productoria de j=0 a 2n-1\n",
    "        for j in range(1, prodj+1):\n",
    "            prodi = j-1\n",
    "            res_prodi = 1\n",
    "#             aqui empieza el desarrollo de la productoria de i=0 a j-1\n",
    "            for i in range(0, prodi+1):\n",
    "                logi = 0\n",
    "#                 hice una comparacion para evitar el error de log2 de 0\n",
    "                if i != 0:\n",
    "                    logi = int(math.log(i,2))\n",
    "                res_prod_log = 1\n",
    "#               aqui desarrollo la productoria de m = 0 a log2 de i\n",
    "                for m in range(0,logi+1):\n",
    "                    bmi = bik_floor(i,m)\n",
    "                    bmj = bik_floor(j,m)\n",
    "                    prod_m_log = 1 - bmi + (bmi * bmj)\n",
    "                    res_prod_log *= prod_m_log\n",
    "                bik = bik_floor(k,i)\n",
    "                bjk = bik_floor(k,j)\n",
    "                prod_i = 1 - bik * bjk * res_prod_log\n",
    "                res_prodi *= prod_i\n",
    "            res_prodj *= res_prodi\n",
    "        res_dedekind += res_prodj\n",
    "    print(\"M({}) = {}\".format(n,res_dedekind))\n"
   ]
  },
  {
   "cell_type": "code",
   "execution_count": 2,
   "metadata": {},
   "outputs": [],
   "source": []
  }
 ],
 "metadata": {
  "colab": {
   "collapsed_sections": [],
   "name": "04_IterativeExpressions.ipynb",
   "provenance": []
  },
  "kernelspec": {
   "display_name": "Python 3",
   "language": "python",
   "name": "python3"
  },
  "language_info": {
   "codemirror_mode": {
    "name": "ipython",
    "version": 3
   },
   "file_extension": ".py",
   "mimetype": "text/x-python",
   "name": "python",
   "nbconvert_exporter": "python",
   "pygments_lexer": "ipython3",
   "version": "3.6.6+"
  }
 },
 "nbformat": 4,
 "nbformat_minor": 1
}
