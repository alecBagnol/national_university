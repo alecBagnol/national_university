{
  "nbformat": 4,
  "nbformat_minor": 0,
  "metadata": {
    "colab": {
      "name": "A5_Expresiones_iterativas.ipynb",
      "provenance": [],
      "collapsed_sections": []
    },
    "kernelspec": {
      "display_name": "Python [Root]",
      "language": "python",
      "name": "Python [Root]"
    }
  },
  "cells": [
    {
      "cell_type": "markdown",
      "metadata": {
        "id": "3oxedQvB1c5p"
      },
      "source": [
        "[texto del enlace](https://)<table>\n",
        " <tr align=left><td><img align=left src=\"https://drive.google.com/uc?export=view&id=1edefIUL_iwWk4K3KtrNynSJ0Qvpdb2YY\">\n",
        " <td>Text provided under a Creative Commons Attribution license, CC-BY. All code is made available under the FSF-approved MIT license. (c) Francisco Gómez</td>\n",
        "</table>"
      ]
    },
    {
      "cell_type": "markdown",
      "metadata": {
        "id": "Xq_hs1jGRtLR"
      },
      "source": [
        "*“The original Ethernet consisted of a fat cable into which a wire coming from each computer was forcibly inserted using what was euphemistically referred to a vampire tap.”*\n",
        "\n",
        "__Andrew Tanenbaum__"
      ]
    },
    {
      "cell_type": "markdown",
      "metadata": {
        "id": "zYW3ZR0NSLk7"
      },
      "source": [
        "## Problemas"
      ]
    },
    {
      "cell_type": "markdown",
      "metadata": {
        "id": "Lw7Zrm0lJ52N"
      },
      "source": [
        "1. Escriba un programa que adivine números entre 1 y 9"
      ]
    },
    {
      "cell_type": "code",
      "metadata": {
        "id": "RUcWXtUQJ9E0"
      },
      "source": [
        ""
      ],
      "execution_count": null,
      "outputs": []
    },
    {
      "cell_type": "markdown",
      "metadata": {
        "id": "B72fnfAPFZNz"
      },
      "source": [
        "2. Calcular un número elevado a otro número utilizando el método de multiplicaciones sucesivas"
      ]
    },
    {
      "cell_type": "code",
      "metadata": {
        "id": "JiCFfhv2FZWL"
      },
      "source": [
        ""
      ],
      "execution_count": null,
      "outputs": []
    },
    {
      "cell_type": "markdown",
      "metadata": {
        "id": "FP5SChrPE1qp"
      },
      "source": [
        "3. Encuentre los números que son divisibles por 7 y múltiplos de 5, entre 3500 y 4700"
      ]
    },
    {
      "cell_type": "code",
      "metadata": {
        "id": "HXJhejw4FLsy"
      },
      "source": [
        ""
      ],
      "execution_count": null,
      "outputs": []
    },
    {
      "cell_type": "markdown",
      "metadata": {
        "id": "OKKbv1BKFMex"
      },
      "source": [
        "4. Escriba un programa que obtenga los valores de la serie de Fibonacci entre 100 y 200"
      ]
    },
    {
      "cell_type": "code",
      "metadata": {
        "id": "1f_EIYa9FMp2"
      },
      "source": [
        ""
      ],
      "execution_count": null,
      "outputs": []
    },
    {
      "cell_type": "markdown",
      "metadata": {
        "id": "PgqWFNG5MH_S"
      },
      "source": [
        "5. Calcule la secuencia de Padovan (1, 1, 1, 2, 2, 3, 4, 5, 7, 9, 12, 16...) para un n arbitrario"
      ]
    },
    {
      "cell_type": "code",
      "metadata": {
        "id": "CUESPjKTMIJS"
      },
      "source": [
        ""
      ],
      "execution_count": null,
      "outputs": []
    },
    {
      "cell_type": "markdown",
      "metadata": {
        "id": "w6aG4ekFFfv8"
      },
      "source": [
        "6. Determine si un número es primo o no"
      ]
    },
    {
      "cell_type": "code",
      "metadata": {
        "id": "-91xnpfrFf3S"
      },
      "source": [
        ""
      ],
      "execution_count": null,
      "outputs": []
    },
    {
      "cell_type": "markdown",
      "metadata": {
        "id": "47xu0dynFw9R"
      },
      "source": [
        "7. Determine si un número es compuesto o no"
      ]
    },
    {
      "cell_type": "code",
      "metadata": {
        "id": "MzX3bSIxFxIa"
      },
      "source": [
        ""
      ],
      "execution_count": null,
      "outputs": []
    },
    {
      "cell_type": "markdown",
      "metadata": {
        "id": "S599fJnrLlk7"
      },
      "source": [
        "8. Aproxime pi utilizando los 100 primeros términos de la serie de Ramanujan–Sato"
      ]
    },
    {
      "cell_type": "code",
      "metadata": {
        "id": "Uvy08g4MLlxU"
      },
      "source": [
        ""
      ],
      "execution_count": null,
      "outputs": []
    },
    {
      "cell_type": "markdown",
      "metadata": {
        "id": "kluLrKL7LphH"
      },
      "source": [
        "9. Determine si un número es narcisista"
      ]
    },
    {
      "cell_type": "code",
      "metadata": {
        "id": "9PisdmFlLprA"
      },
      "source": [
        ""
      ],
      "execution_count": null,
      "outputs": []
    },
    {
      "cell_type": "markdown",
      "metadata": {
        "id": "1emFpwGjL6o9"
      },
      "source": [
        "10. Determine si un número es primo fuerte "
      ]
    },
    {
      "cell_type": "code",
      "metadata": {
        "id": "O4FldweFcSAj"
      },
      "source": [
        ""
      ],
      "execution_count": null,
      "outputs": []
    },
    {
      "cell_type": "markdown",
      "metadata": {
        "id": "GjFkz87icRKv"
      },
      "source": [
        "11. Determine si un número es perfecto o no "
      ]
    },
    {
      "cell_type": "code",
      "metadata": {
        "id": "ycutVAZZL6wL"
      },
      "source": [
        ""
      ],
      "execution_count": null,
      "outputs": []
    },
    {
      "cell_type": "markdown",
      "metadata": {
        "id": "gbgnZsxccVJc"
      },
      "source": [
        "12. Determine si un número es semiperfecto"
      ]
    },
    {
      "cell_type": "code",
      "metadata": {
        "id": "lEOuUIJNcVUE"
      },
      "source": [
        ""
      ],
      "execution_count": null,
      "outputs": []
    },
    {
      "cell_type": "markdown",
      "metadata": {
        "id": "AxQWaXKjcYGm"
      },
      "source": [
        "13. Determine si un número es abundante"
      ]
    },
    {
      "cell_type": "code",
      "metadata": {
        "id": "P0QvK-JrcYPl"
      },
      "source": [
        ""
      ],
      "execution_count": null,
      "outputs": []
    },
    {
      "cell_type": "markdown",
      "metadata": {
        "id": "CUX_zeJKcand"
      },
      "source": [
        "14. Calcule el n-esimo término de la secuencia de Ulam"
      ]
    },
    {
      "cell_type": "code",
      "metadata": {
        "id": "aC8aejmlcaym"
      },
      "source": [
        ""
      ],
      "execution_count": null,
      "outputs": []
    },
    {
      "cell_type": "markdown",
      "metadata": {
        "id": "FN4kJotHcdX0"
      },
      "source": [
        "15. Calcule el doble factorial de un número"
      ]
    },
    {
      "cell_type": "code",
      "metadata": {
        "id": "loTsOI4CcdiU"
      },
      "source": [
        ""
      ],
      "execution_count": null,
      "outputs": []
    },
    {
      "cell_type": "markdown",
      "metadata": {
        "id": "zXCcY8eAcf1r"
      },
      "source": [
        "16. Calcule el subfactorial de un número"
      ]
    },
    {
      "cell_type": "code",
      "metadata": {
        "id": "Nwmr27ZscgAG"
      },
      "source": [
        ""
      ],
      "execution_count": null,
      "outputs": []
    },
    {
      "cell_type": "markdown",
      "metadata": {
        "id": "XSvu3IFocio3"
      },
      "source": [
        "17. Calcule los 6 primeros números de Dedekin"
      ]
    },
    {
      "cell_type": "code",
      "metadata": {
        "id": "dr93hm63ciyb"
      },
      "source": [
        ""
      ],
      "execution_count": null,
      "outputs": []
    }
  ]
}