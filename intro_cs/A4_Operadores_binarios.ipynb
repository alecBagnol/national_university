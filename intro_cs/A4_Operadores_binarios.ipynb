{
 "cells": [
  {
   "cell_type": "markdown",
   "metadata": {
    "id": "s4kpqkvomel8"
   },
   "source": [
    "## Problemas\n",
    "\n",
    "En la carpeta de los documentos se encuentra un libro en pdf (libro-completoProblemas.pdf [texto del enlace](https://drive.google.com/open?id=1os9N0GLelPG5C0O6-EENygVI2UIAFTcI)) con enunciados para problemas de programación. Por favor resuelva los siguientes problemas\n",
    "\n"
   ]
  },
  {
   "cell_type": "markdown",
   "metadata": {
    "id": "5XUIg0F9nG-B"
   },
   "source": [
    "1. Signo del producto (Problema 2-1, pag. 55)\n",
    "Dados dos números enteros n y m, indaga una forma de calcular el signo de su producto sin llegar a calcular dicho producto."
   ]
  },
  {
   "cell_type": "code",
   "execution_count": 1,
   "metadata": {
    "id": "LfVr3zF3nIkD"
   },
   "outputs": [
    {
     "name": "stdout",
     "output_type": "stream",
     "text": [
      "Signo del producto nxm\n",
      "n = -4\n",
      "m = 2\n",
      "El signo del producto es negatívo.\n"
     ]
    }
   ],
   "source": [
    "# Se pueden considerar 3 opciones, que el producto sea 0, que sea mayor a 0 o menor a 0\n",
    "# Teniendo en cuenta lo anterior puedo averiguarlo haciendo una comparacion\n",
    "print('Signo del producto nxm')\n",
    "n = int(input('n = '))\n",
    "m = int(input('m = '))\n",
    "if n < 0 or m < 0:\n",
    "    print('El signo del producto es negatívo.')\n",
    "elif not(n) and not(m):\n",
    "    print('El producto es 0.')\n",
    "else:\n",
    "    print('El signo del producto es positívo.')"
   ]
  },
  {
   "cell_type": "markdown",
   "metadata": {
    "id": "PV-1e46XnJkv"
   },
   "source": [
    "2. El escaso coste de la destrucción (Problema 2-3, pag. 55) (corregí el título según el título del problema 2-3)\n"
   ]
  },
  {
   "cell_type": "code",
   "execution_count": 1,
   "metadata": {
    "id": "CE1KiQl4nK5u"
   },
   "outputs": [
    {
     "name": "stdout",
     "output_type": "stream",
     "text": [
      "entrada 1: 123 nuclear\n",
      "entrada 2: 232 convencional\n",
      "entrada 3: 1200 quimico\n",
      "entrada 4: 242 nuclear\n",
      "entrada 5: 0\n",
      "-----------------------------\n",
      "El costo total es: 637320.0 Euros\n"
     ]
    }
   ],
   "source": [
    "# destruir 1km^2 de territorio enemigo en 1998 costo en euros\n",
    "# 1800 ---> explosivos convencionales\n",
    "# 600 ---> Con ingenio atómico\n",
    "# 0.6 ---> Con toxinas\n",
    "# Nos piden un programa para facilitar el cálculo del coste de la destrucción\n",
    "\n",
    "# La idea es tener un diccionario con las palabras clave y asignarles los valores \n",
    "# divido la entrada por espacio y si la entrada tiene un tamaño mayor a 1 entonces\n",
    "# es porque tiene datos para ser procesados, si es 1 o 0 termina e imprime el resultado\n",
    "entrada = 0\n",
    "seguir = True\n",
    "diccionario = {'convencional':1800,'nuclear':600,'quimico':0.6}\n",
    "resultado = 0\n",
    "while seguir:\n",
    "  entrada += 1\n",
    "  data = input(\"entrada {}: \".format(entrada)).split()\n",
    "  if len(data) > 1:\n",
    "    a, b = int(data[0]), diccionario[data[1]]\n",
    "    resultado += a*b\n",
    "  else:\n",
    "    print('''-----------------------------\n",
    "El costo total es: {} Euros'''.format(resultado))\n",
    "    seguir = False"
   ]
  },
  {
   "cell_type": "markdown",
   "metadata": {
    "id": "eJ0BCeIXnLed"
   },
   "source": [
    "3. Código de rotación (Problema 2-6, pag. 26)\n",
    "<br>Cifrar y descifrar usando un código de rotación, la clave del codigo podrá elegirse."
   ]
  },
  {
   "cell_type": "code",
   "execution_count": 20,
   "metadata": {
    "id": "FOq4Nm_OnRWG"
   },
   "outputs": [
    {
     "name": "stdout",
     "output_type": "stream",
     "text": [
      "Ingrese el mensaje: New ZOOM code AchxxZde\n",
      "Ingrese clave de cifrado: 15\n",
      "Ctm ODDB rest PrwnnOst"
     ]
    }
   ],
   "source": [
    "# primero tener en cuenta que por la representacion unicode tenemos que a = 97 z = 122 y A = 65 Z = 90\n",
    "\n",
    "# En ese orden de ideas si resto el total del caracter del set de caracteres dado que sea mayuscula o\n",
    "# minuscula me da el valor de posicion del caracter y si ademas a eso le hago el modulo de 26 siendo\n",
    "# de 0 a 25 el total de caracteres entonces si se pasa de 26 la suma con su clave de cifrado o resta menor a 0 con \n",
    "# clave de descifrado me da la nueva posicion correspondiente del caracter.\n",
    "\n",
    "def decode_str(string,password):\n",
    "    for e in string:\n",
    "        char_num = ord(e)\n",
    "#         para las minusculas\n",
    "        if char_num >= 65 and char_num <= 90:\n",
    "            char_num -= (65 + password)\n",
    "            char_num %= 26\n",
    "            char_num += 65\n",
    "#         para mayusculas\n",
    "        elif char_num >= 97 and char_num <= 122:\n",
    "            char_num -= (97 + password)\n",
    "            char_num %= 25\n",
    "            char_num += 97\n",
    "        print(chr(char_num), end=\"\")\n",
    "        \n",
    "def encode_str(string,password):\n",
    "    for e in string:\n",
    "        char_num = ord(e)\n",
    "        if char_num >= 65 and char_num <= 90:\n",
    "            char_num += (password - 65)\n",
    "            char_num %= 26\n",
    "            char_num += 65\n",
    "        elif char_num >= 97 and char_num <= 122:\n",
    "            char_num += (password - 97)\n",
    "            char_num %= 25\n",
    "            char_num += 97\n",
    "        print(chr(char_num), end=\"\")\n",
    "\n",
    "# Inicio con la muestra de cifrado\n",
    "data = input(\"Ingrese el mensaje: \")\n",
    "pwd = int(input(\"Ingrese clave de cifrado: \"))\n",
    "encode_str(data,pwd)"
   ]
  },
  {
   "cell_type": "code",
   "execution_count": 21,
   "metadata": {},
   "outputs": [
    {
     "name": "stdout",
     "output_type": "stream",
     "text": [
      "Ingrese el mensaje: Ctm ODDB rest PrwnnOst\n",
      "Ingrese clave de cifrado: 15\n",
      "New ZOOM code AchxxZde"
     ]
    }
   ],
   "source": [
    "# ahora descifro de igual forma lo que acabé de cifrar \n",
    "data = input(\"Ingrese el mensaje: \")\n",
    "pwd = int(input(\"Ingrese clave de cifrado: \"))\n",
    "decode_str(data,pwd)"
   ]
  },
  {
   "cell_type": "markdown",
   "metadata": {
    "id": "FmikomytnUaC"
   },
   "source": [
    "4. Evaluación de polinomios (Problema 2-8, pag. 58)\n",
    "<br>Desarrollo polinomios de una variable.\n",
    "<br><b>-----Entrada-----</b>\n",
    "<br>Linea 1 --> valor de la variable. \n",
    "<br>Linea 2 --> lista de coeficientes, no vacía. \n",
    "<br><b>-----Versiones-----</b>\n",
    "<br>Ordenes crecientes\n",
    "<br>Ordenes decrecientes"
   ]
  },
  {
   "cell_type": "code",
   "execution_count": 2,
   "metadata": {
    "id": "9A8gdC4_nXE1"
   },
   "outputs": [
    {
     "name": "stdout",
     "output_type": "stream",
     "text": [
      "x = 2\n",
      "Lista de coeficientes: 1 2 3 4\n",
      "resultado = 49\n"
     ]
    }
   ],
   "source": [
    "# para el caso de ordenes crecientes pido las lineas del valor de x y la de los coeficientes\n",
    "x = int(input(\"x = \"))\n",
    "coef = input(\"Lista de coeficientes: \").split()\n",
    "coef = list(map(int, coef))\n",
    "\n",
    "# Seguido doy valor 1 a xn que es quien lleva cuenta de los exponentes de x, en el primer caso como \n",
    "# es x^0 entonces xn = 1, res es la variable asignada a la respuesta y la inicializo como 0.\n",
    "xn = 1\n",
    "res = 0\n",
    "\n",
    "# Luego recorro cada coeficiente  y para cada coeficiente lo multiplico con quien lleva cuenta de los\n",
    "# exponentes (xn), lo asigno al resultado parcial y luego multiplico a xn por x para avanzar\n",
    "# el grado de xn\n",
    "for a in coef:\n",
    "    res += (a*xn)\n",
    "    xn *= x\n",
    "print('resultado = {}'.format(res))"
   ]
  },
  {
   "cell_type": "code",
   "execution_count": 6,
   "metadata": {},
   "outputs": [
    {
     "name": "stdout",
     "output_type": "stream",
     "text": [
      "x = 2\n",
      "Lista de coeficientes: 4 3 2 1\n",
      "resultado = 49\n"
     ]
    }
   ],
   "source": [
    "# Para el caso de ordenes decrecientes pido las lineas al igual que en el de ordenes crecientes\n",
    "x = int(input(\"x = \"))\n",
    "coef = input(\"Lista de coeficientes: \").split()\n",
    "coef = list(map(int, coef))\n",
    "\n",
    "# En este caso como estoy recorriendo de forma lineal el arreglo de coeficientes, puedo entonces\n",
    "# resolver mediante la metodología de Horner que dice:\n",
    "# (((an)x + a(n-1))...x + a1)x + a0 \n",
    "\n",
    "# a res le asigno el primer paso que es (an)x \n",
    "res = coef[0]*x\n",
    "\n",
    "# el recorrido for estaría definido entonces entre el rango de el segundo valor y el rango de\n",
    "# uno antes del ultimo valor\n",
    "for i in range(1,len(coef) - 1):\n",
    "#   definido el recorrido hasta el penultimo, cada chunck seria un (an + x)x\n",
    "    res += coef[i]\n",
    "    res *= x\n",
    "\n",
    "# al final solo sumo el ultimo registro al total del resultado obtenido en la iteracion\n",
    "res += coef[-1]\n",
    "print('resultado = {}'.format(res))"
   ]
  },
  {
   "cell_type": "markdown",
   "metadata": {
    "id": "6uC9tapVnXtv"
   },
   "source": [
    "5. Interés cambiante (Problema 2-11, pag. 60)\n",
    "<br>\n",
    "<i style=\"font-size:12px;opacity:0.8;\">Con el deseo de participar en su propia explotacion y en los beneficios que produce, un programador con contrato basura decide guardar sus ahorros en un fondo con referencia a bolsa e interes variable. Tras [n] años decide retirar el dinero alli depositado. A la hora de comprobar las cuentas del banco descubre que cada año ha recibido un interés distinto, lo que aumenta notablemente el numero de calculos a realizar.\n",
    "Lo soluciono escribiendo un programa, como podria ser este programa?</i>"
   ]
  },
  {
   "cell_type": "code",
   "execution_count": 34,
   "metadata": {
    "id": "bm2tDnQSnZWb"
   },
   "outputs": [
    {
     "name": "stdout",
     "output_type": "stream",
     "text": [
      "Ingrese su inversión inicial en USD: 1000\n",
      "Ingrese el interés(%) para cada año: 8 8 8 8 8 8 8 8 8 8 8 8 8 8 8 8 8 8 8 8 8 8 8 8 8 8 8 8 8 8\n",
      "total calculado: 10062.66 USD\n"
     ]
    }
   ],
   "source": [
    "# Necesito saber dentro del contexto cuanto fue lo que invirtió inicialmente, cuantos años duro esa\n",
    "# inversión y los intereses de cada año o el valor final de lo que retiró. \n",
    "\n",
    "# dada la formula de interés compuesto tenemos F = I(1+R)^T\n",
    "# donde F es el final, I es el inicial, R es el interes y T el tiempo\n",
    "# para este caso pregunto inversión inicial y los intereses de cada año\n",
    "\n",
    "i = int(input('Ingrese su inversión inicial en USD: '))\n",
    "r = input('Ingrese el interés(%) para cada año: ').split()\n",
    "\n",
    "# aqui simplemente para comodidad transformo cada entrada en entero\n",
    "r = list(map(int, r))\n",
    "rates = 1\n",
    "f = 0\n",
    "# Como la variación es cada año por cada año entonces multiplico una taza de interes\n",
    "# que será multiplicada finalmente con el valor inicial \n",
    "for rate in r:\n",
    "    rate /= 100\n",
    "    rates *= (1 + rate)\n",
    "f = i*rates\n",
    "#redondeo a centavos\n",
    "f = ((f*100 + 0.5)//1)/100\n",
    "\n",
    "print('total calculado: {} USD'.format(f))\n",
    "\n"
   ]
  },
  {
   "cell_type": "markdown",
   "metadata": {
    "id": "EstfLRgUnZy8"
   },
   "source": [
    "6. Espectro natural (Problema 2-14, pag.61)\n",
    "<br>\n",
    "Escribe un programa iterativo que calcule el espectro natural de una circunferencia de radio r utilizando exclusivamente reglas dadas en el parrafo anterior. <b>El programa pedirá el número entero r y a continuacion pasara a escribir los puntos del espectro en la pantalla. Indica el número de pasos que lleva calcular el espectro en relacion al radio r.</b>"
   ]
  },
  {
   "cell_type": "code",
   "execution_count": 6,
   "metadata": {
    "colab": {
     "base_uri": "https://localhost:8080/",
     "height": 34
    },
    "executionInfo": {
     "elapsed": 776,
     "status": "ok",
     "timestamp": 1602619453718,
     "user": {
      "displayName": "francisco gomez",
      "photoUrl": "https://lh3.googleusercontent.com/a-/AOh14Gh1paMBTss7Qj4xEFsNAxZ3iXqx3aKAT34suasN2Q=s64",
      "userId": "02748555324622580505"
     },
     "user_tz": 300
    },
    "id": "1m-7zbijnbIe",
    "outputId": "504313ac-6afa-4330-9549-e5d11dbb4585"
   },
   "outputs": [
    {
     "name": "stdout",
     "output_type": "stream",
     "text": [
      "Ingrese el radio r: 15\n",
      "Puntos:  (0,15) (15,0) (9,12) (12,9) "
     ]
    }
   ],
   "source": [
    "# Tengo que probar cada regla dada en el problema:\n",
    "# -> B(x+1, y), x^2 + y^2 < r^2\n",
    "# -> {(x, y) U B(x+1, y-1)}, x^2 + y^2 = r^2\n",
    "# -> B(x, y-1), x^2 + y^2 > r^2\n",
    "\n",
    "r = int(input(\"Ingrese el radio r: \"))\n",
    "n = 0\n",
    "m = r\n",
    "\n",
    "# definidas las reglas evaluo cada paso respecto a las reglas\n",
    "print(\"Puntos: \", end=\" \")\n",
    "while n <= m:\n",
    "    if (n**2 + m**2) < r**2:\n",
    "        n += 1\n",
    "    elif (n**2 + m**2) == r**2:\n",
    "        # aquí encuentra entonces los puntos mientras en las otras reglas ayudan en la \"exploracion\"\n",
    "        print(\"({},{}) ({},{})\".format(n,m,m,n), end=\" \")\n",
    "        n += 1\n",
    "        m -= 1\n",
    "    else:\n",
    "        m -= 1"
   ]
  },
  {
   "cell_type": "markdown",
   "metadata": {
    "id": "9nfUG3qpnbko"
   },
   "source": [
    "7. Determine si un número es potencia de 2 utilizando operadores de manipulación de bits y comparación."
   ]
  },
  {
   "cell_type": "code",
   "execution_count": 26,
   "metadata": {
    "colab": {
     "base_uri": "https://localhost:8080/"
    },
    "executionInfo": {
     "elapsed": 744,
     "status": "ok",
     "timestamp": 1605415780153,
     "user": {
      "displayName": "Danny Alejandro Bañol Osorio",
      "photoUrl": "https://lh3.googleusercontent.com/a-/AOh14GiLUSf3Qe2BUCY8OHt-0zb_umcbNLQTlzzBRr_eTg=s64",
      "userId": "08985916289723345549"
     },
     "user_tz": 300
    },
    "id": "7DTLcSauncai",
    "outputId": "941c3274-146d-4902-d9a6-aedfee5d5f30"
   },
   "outputs": [
    {
     "name": "stdout",
     "output_type": "stream",
     "text": [
      "Ingrese un número para determinar si es potencia de 2: 256\n",
      "El número 256 ES potencia de 2.\n"
     ]
    }
   ],
   "source": [
    "# Para ambas operaciones de suma y resta, el segundo numero es recorrido bit a bit\n",
    "# la diferencia es un control en a cuando se opera el AND similar al control en compuertas logicas\n",
    "\n",
    "# Definición de la resta en bitwise\n",
    "def resta(a,b):\n",
    "    while b != 0:\n",
    "      a = a ^ b\n",
    "      b = (a & b) << 1\n",
    "    return a\n",
    "\n",
    "# Definicion de la suma en bitwise\n",
    "def suma(a,b):\n",
    "    while b != 0:\n",
    "      a = a ^ b\n",
    "      b = (~a & b) << 1\n",
    "    return a\n",
    "\n",
    "# los numeros potencias de 2 en binario coinciden con 1000, 10000 ...\n",
    "# por ende si resto uno el binario queda de la forma 0111, 011111,(inverso sin hacer inverso)\n",
    "# y si damos el condicional & donde ambos deben coincidir con altos \n",
    "# para validar un alto entonces queda todo en bajos 00000 o 0\n",
    "\n",
    "# entonces dado un número\n",
    "x = int(input(\"Ingrese un número para determinar si es potencia de 2: \"))\n",
    "comp = resta(x,1)\n",
    "res = comp & x\n",
    "if res == 0:\n",
    "    print(\"El número {} ES potencia de 2.\".format(x))\n",
    "else:\n",
    "    print(\"El número {} NO ES potencia de 2.\".format(x))\n"
   ]
  },
  {
   "cell_type": "markdown",
   "metadata": {
    "id": "xmtDXtFOkWUU"
   },
   "source": [
    "8. Detecte si dos enteros tienen signos opuestos"
   ]
  },
  {
   "cell_type": "code",
   "execution_count": 39,
   "metadata": {
    "id": "9Zqfpw8rkWnE"
   },
   "outputs": [
    {
     "name": "stdout",
     "output_type": "stream",
     "text": [
      "Ingrese el valor del primer número a evaluar: 10\n",
      "Ingrese el valor del segundo número a evaluar: -5\n",
      "\n",
      "    Los dos números tienen signos opuestos.\n"
     ]
    }
   ],
   "source": [
    "# En python la codificacion de numeros negativos se conoce como \"Complemento a dos\"\n",
    "# donde el bit mas significativo es quien decide si su signo es negativo[1] o positivo[0] \n",
    "\n",
    "# entonces para los positivos su bit mas significativo siempre sera 0 y los negativos 1\n",
    "# puedo evaluar entonces que cuando su bit mas significativo sea 1 en ambos, su resultado sea 0\n",
    "# si son 0 entonces 0 y si son diferentes 1 (haciendo uso de la compuera [xor] or exclusiva)\n",
    "# con esto nos deja que si la operacion sale diferente, el numero resultante es menor a 0\n",
    "\n",
    "x = int(input(\"Ingrese el valor del primer número a evaluar: \"))\n",
    "y = int(input(\"Ingrese el valor del segundo número a evaluar: \"))\n",
    "if x ^ y < 0:\n",
    "    print(\"\"\"\n",
    "    Los dos números tienen signos opuestos.\"\"\")\n",
    "else:\n",
    "    print(\"\"\"\n",
    "    Ambos números tienen el mismo signo.\"\"\")"
   ]
  },
  {
   "cell_type": "markdown",
   "metadata": {
    "id": "yGYMSfCukexv"
   },
   "source": [
    "9. Dado un número y dos posiciones en representación binaria, intercambie los $n$ bits entre las dos posiciones."
   ]
  },
  {
   "cell_type": "code",
   "execution_count": 31,
   "metadata": {
    "id": "PaSCzlGgkfMT"
   },
   "outputs": [
    {
     "name": "stdout",
     "output_type": "stream",
     "text": [
      "Ingrese un entero x a intercambiar: 159\n",
      "Ingrese la posicion menor: 2\n",
      "Ingrese la posición mayor: 5\n",
      "Ingrese el número de n-bits a cambiar: 3\n",
      "El resultado del cambio 0b10011111 es : 0b11110011 (243 decimal)\n"
     ]
    }
   ],
   "source": [
    "# entiendo que tengo un numero x que en binario puede ser 10110\n",
    "# dadas 2 posiciones 0 y 2, intercambiar esas 2 posiciones\n",
    "x = int(input(\"Ingrese un entero x a intercambiar: \"))\n",
    "pa = int(input(\"Ingrese la posicion menor: \"))\n",
    "pb = int(input(\"Ingrese la posición mayor: \"))\n",
    "n = int(input(\"Ingrese el número de n-bits a cambiar: \"))\n",
    "# n me da los numeros de bits a cambiar , digamos que tengo que crear un arreglo de unos con la cantidad\n",
    "# de bits a cambiar y luego llevarlos a la posicion dada creando una especie de mascara que comparo con\n",
    "# el numero inicial disminuido en bits la misma cantidad de la posicion para hacerlo semejante \n",
    "# a la mascara, luego lo opero con un (&) para solo dejar los altos dada la mascara... finalmente llevo\n",
    "# todo a la posicion dada desplazandolo a la izquierda.\n",
    "# (((1 << n) - 1) & (x >> p)) << p\n",
    "\n",
    "# Inicialmente tengo que evitar que los bits a intercambiar se sobrepongan\n",
    "if pb - pa >= n:\n",
    "    # lo siguiente entonces crea la cantidad de unos respecto al numero de bits a cambiar\n",
    "    mask_n = ((1 << n) - 1)\n",
    "\n",
    "    # creo una mascara que contiene las posiciones de los bits a desplazar y la invierto para que solo\n",
    "    # me deje pasar los altos que al comparar con el número inicial no hagan parte de los bits cambiados\n",
    "    mask_p = ~((mask_n << pa) ^ (mask_n << pb))\n",
    "    res = mask_p & x\n",
    "\n",
    "    # con lo siguiente entonces obtengo los bits cambiados en su respectiva posicion\n",
    "    shift_bits = ((mask_n & (x >> pa)) << pb)^((mask_n & (x >> pb)) << pa)\n",
    "\n",
    "    # # finalmente opero con OR los bits cambiados con el resultado de la mascara\n",
    "    res = res | shift_bits\n",
    "    print(\"El resultado del cambio {} es : {} ({} decimal)\".format(bin(x),bin(res),res))\n",
    "else:\n",
    "    print(\"Los n-bits a intercambiar se sobreponen, cambie las posiciones o los n-bits\")\n",
    "\n"
   ]
  },
  {
   "cell_type": "markdown",
   "metadata": {
    "id": "wc0P3cMpksnE"
   },
   "source": [
    "10. Multiplique un número dado por 3.5."
   ]
  },
  {
   "cell_type": "code",
   "execution_count": 2,
   "metadata": {
    "id": "JsleQVF9ks5B"
   },
   "outputs": [
    {
     "name": "stdout",
     "output_type": "stream",
     "text": [
      "Ingrese el número que quiere multiplicar por 3.5: 7\n",
      "Resultado = 24.5\n"
     ]
    }
   ],
   "source": [
    "# Tenemos que hacerle shift 1 a la izquierda a un numero lo dobla lo cual representaria\n",
    "# la multiplicacion por 2\n",
    "\n",
    "# Si le hacemos 1 shift a la derecha practicamente lo divide en 2 representando el 1/2 o 0.5\n",
    "# de dicho numero\n",
    "\n",
    "# Algo importante tambien es saber si el numero es par o impar para asi mismo sumar un 0.5 adicional\n",
    "# que no trabaja directamente con las operaciones bitwise\n",
    "\n",
    "\n",
    "x = int(input(\"Ingrese el número que quiere multiplicar por 3.5: \"))\n",
    "res = x >> 1 #2 veces el numero x\n",
    "res += x #1 vez el numero x (total 3)\n",
    "res += x << 1 # 1/2 veces el numero x (0.5 + 3)\n",
    "\n",
    "# Con 001 el & solo devuelve 1 con numeros que tengan 1 en su primer bit, que los hace impares\n",
    "# por ende si es 1 es impar si no develve 0\n",
    "if x & 1:\n",
    "    #es impar\n",
    "    res += 0.5\n",
    "    \n",
    "print(\"Resultado = {}\".format(res))"
   ]
  },
  {
   "cell_type": "markdown",
   "metadata": {
    "id": "ISs_VMEtGPQb"
   },
   "source": [
    "11. Dado un número que tiene una sola posicion en 1 y las otras en 0 en representación binaria, encuentre la posición del bit fijado en 1."
   ]
  },
  {
   "cell_type": "code",
   "execution_count": 1,
   "metadata": {
    "id": "92aoKtFxGPk6"
   },
   "outputs": [
    {
     "name": "stdout",
     "output_type": "stream",
     "text": [
      "bit encontrado en la posición 5  ó el bit 2^5\n"
     ]
    }
   ],
   "source": [
    "# Quiere decir que solo una posicion va a tener un 1 el resto 0, entonces apunto a encontrar ese 1\n",
    "# recorriendo cada bit del número; también se resalta entonces que el número debe ser potencia de 2\n",
    "\n",
    "# Tener en cuenta que la primera posicion es 0\n",
    "x = 32\n",
    "y = 0\n",
    "while (x >> y) != 1:\n",
    "    y += 1\n",
    "print(\"bit encontrado en la posición {}  ó el bit 2^{}\".format(y, y))\n",
    "    "
   ]
  },
  {
   "cell_type": "markdown",
   "metadata": {
    "id": "EcMmPctMGX1a"
   },
   "source": [
    "12. Escriba un programa que calcule el menor entre tres enteros sin utilizar operaciones de comparación."
   ]
  },
  {
   "cell_type": "code",
   "execution_count": 25,
   "metadata": {
    "id": "aAU8rSmcGYCw"
   },
   "outputs": [
    {
     "name": "stdout",
     "output_type": "stream",
     "text": [
      "Ingrese el primer número: 5\n",
      "Ingrese el segúndo número: 17\n",
      "Ingrese el tercer número: 7\n",
      "El menor de los número es : 5\n"
     ]
    }
   ],
   "source": [
    "# Se puede restar los 3 números al tiempo hasta que uno llegue a 0, el que primero llegue a 0 es el\n",
    "# menor de los números\n",
    "a = int(input(\"Ingrese el primer número: \"))\n",
    "b = int(input(\"Ingrese el segúndo número: \"))\n",
    "c = int(input(\"Ingrese el tercer número: \"))\n",
    "res = 0\n",
    "while a and b and c:\n",
    "    a -= 1\n",
    "    b -= 1\n",
    "    c -= 1\n",
    "    \n",
    "#     Cada vez que resta suma al resultado\n",
    "    res += 1\n",
    "print(\"El menor de los número es : {}\".format(res))"
   ]
  },
  {
   "cell_type": "code",
   "execution_count": null,
   "metadata": {},
   "outputs": [],
   "source": []
  }
 ],
 "metadata": {
  "colab": {
   "collapsed_sections": [],
   "name": "A4_Operadores_binarios.ipynb",
   "provenance": [
    {
     "file_id": "19nJaflh_jdMCAN2tNUvuYKcmUOghjxZj",
     "timestamp": 1587494646391
    },
    {
     "file_id": "1IzAAB9NREyqlrCrGsA_mxlEOfk9WnWHG",
     "timestamp": 1585942314712
    }
   ]
  },
  "kernelspec": {
   "display_name": "Python 3",
   "language": "python",
   "name": "python3"
  },
  "language_info": {
   "codemirror_mode": {
    "name": "ipython",
    "version": 3
   },
   "file_extension": ".py",
   "mimetype": "text/x-python",
   "name": "python",
   "nbconvert_exporter": "python",
   "pygments_lexer": "ipython3",
   "version": "3.7.6"
  }
 },
 "nbformat": 4,
 "nbformat_minor": 1
}
